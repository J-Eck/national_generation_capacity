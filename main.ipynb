{
 "cells": [
  {
   "cell_type": "markdown",
   "metadata": {},
   "source": [
    "# Open Power System Data: Aggregated Generation Capacity by Technology and Country"
   ]
  },
  {
   "cell_type": "markdown",
   "metadata": {},
   "source": [
    "## About this Notebook"
   ]
  },
  {
   "cell_type": "markdown",
   "metadata": {},
   "source": [
    "This is a ipython notebook that processes data on aggregated generation capacities for European countries. The data includes generation capacities for nuclear, fossil and renewable fuels on an aggregated and, if possible, disaggregated technology levels. The data mostly reflects the years 2013 and 2014.\n",
    "\n",
    "The final output of the notebook is a list of national generation capacities differentiated by input fuels and technologies, as well as by different data sources"
   ]
  },
  {
   "cell_type": "markdown",
   "metadata": {},
   "source": [
    "## Data Sources"
   ]
  },
  {
   "cell_type": "markdown",
   "metadata": {},
   "source": [
    "The raw data is based on an extensive research of available national and international statistics. Due to the diverse structure of data sources, a compiled and structured dataset is used as input for further processing. Generally, two cross-national data sources are considered, complemented by national data sources.\n",
    "\n",
    "The cross-national data sources are:\n",
    "- [ENTSOE \"Scenario Outlook & Adequacy Forecasts 2014-2030\"](https://www.entsoe.eu/publications/system-development-reports/adequacy-forecasts/soaf-2014-2030/Pages/default.aspx)\n",
    "- [ENTSOE \"Scenario Outlook & Adequacy Forecasts 2013-2030\"](https://www.entsoe.eu/publications/system-development-reports/adequacy-forecasts/soaf-2013-2030/Pages/default.aspx)\n",
    "- EUROSTAT \"Energy Statistics\" compiled in [EU Commission's \"Energy datasheets\"](http://ec.europa.eu/energy/en/statistics/country)\n",
    "\n",
    "Beside this, the data is complemented by national sources, which includes national statistical offices, ministries, regulatory authorities, transmission system operators, as well as other associations. All data sources are listed in the datapackage.json file including their link.  "
   ]
  },
  {
   "cell_type": "markdown",
   "metadata": {},
   "source": [
    "## Links to Notebooks"
   ]
  },
  {
   "cell_type": "markdown",
   "metadata": {},
   "source": [
    "The following notebooks are used to process the input data:\n",
    "- [processing.ipynb](https://github.com/Open-Power-System-Data/datapackage_national_generation_capacities/blob/master/processing.ipynb) - Processing of the input data.\n",
    "- [tests.ipynb](https://github.com/Open-Power-System-Data/datapackage_national_generation_capacities/blob/master/tests.ipynb) - Consistency checks and visualization of the dataset.\n"
   ]
  }
 ],
 "metadata": {
  "kernelspec": {
   "display_name": "Python 3",
   "language": "python",
   "name": "python3"
  },
  "language_info": {
   "codemirror_mode": {
    "name": "ipython",
    "version": 3
   },
   "file_extension": ".py",
   "mimetype": "text/x-python",
   "name": "python",
   "nbconvert_exporter": "python",
   "pygments_lexer": "ipython3",
   "version": "3.5.1"
  }
 },
 "nbformat": 4,
 "nbformat_minor": 0
}
