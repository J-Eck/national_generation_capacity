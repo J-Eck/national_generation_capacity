{
 "cells": [
  {
   "cell_type": "markdown",
   "metadata": {},
   "source": [
    "<table style=\"width:100%\">\n",
    "  <tr>\n",
    "    <td style=\"background-color:##D9EDF7; border: 1px solid #CFCFCF\">\n",
    "      <b>Open Power System Data: National generation capacity</b>\n",
    "      <li>[Datapackage](http://data.open-power-system-data.org/datapackage_national_generation_capacities)</li>\n",
    "      <li>Main notebook (this)</li>\n",
    "      <li>[Processing notebook](processing.ipynb)</li>\n",
    "      <li>[Check notebook](tests.ipynb)</li>\n",
    "    </td>\n",
    "  </tr>\n",
    "</table>"
   ]
  },
  {
   "cell_type": "markdown",
   "metadata": {},
   "source": [
    "# 1. About Open Power System Data \n",
    "This notebook is part of the project [Open Power System Data](http://open-power-system-data.org). Open Power System Data develops a platform for free and open data for electricity system modeling. We collect, check, process, document, and provide data that are publicly available but currently inconvenient to use. \n",
    "More info on Open Power System Data:\n",
    "- [Information on the project on our website](http://open-power-system-data.org)\n",
    "- [Data and metadata on our data platform](http://data.open-power-system-data.org)\n",
    "- [Data processing scripts on our GitHub page](https://github.com/Open-Power-System-Data)\n",
    "\n",
    "# 2. About Jupyter Notebooks and GitHub\n",
    "This file is a [Jupyter Notebook](http://jupyter.org/). A Jupyter Notebook is a file that combines executable programming code with visualizations and comments in markdown format, allowing for an intuitive documentation of the code. We use Jupyter Notebooks for combined coding and documentation. We use Python 3 as programming language. All Notebooks are stored on [GitHub](https://github.com/), a platform for software development, and are publicly available. More information on our IT-concept can be found [here](http://open-power-system-data.org/it). See also our [step-by-step manual](http://open-power-system-data.org/step-by-step) how to use the dataplatform.\n",
    "\n",
    "# 3. About this Data Package\n",
    "We provide data in different chunks, or [datapackages](http://frictionlessdata.io/data-packages/). The one you are looking at is on [national generation capacity](http://data.open-power-system-data.org/datapackage_national_generation_capacities/), \n",
    "\n",
    "This notebook processes data on aggregated generation capacities for European countries. The data includes generation capacities for nuclear, fossil and renewable fuels on an aggregated and, if possible, disaggregated technology levels. The majority of data reflects the years 2013 and 2014.\n",
    "The final output of the notebook is a list of national generation capacities differentiated by input fuels and technologies, as well as by different data sources\n",
    "\n",
    "# 4. Data sources\n",
    "The raw data is based on an extensive research of available national and international statistics. Due to the diverse structure of data sources, a compiled and structured dataset is used as input for further processing. Generally, two cross-national data sources are considered, complemented by national data sources.\n",
    "\n",
    "The cross-national data sources are:\n",
    "- [ENTSOE \"Scenario Outlook & Adequacy Forecasts 2014-2030\"](https://www.entsoe.eu/publications/system-development-reports/adequacy-forecasts/soaf-2014-2030/Pages/default.aspx)\n",
    "- [ENTSOE \"Scenario Outlook & Adequacy Forecasts 2013-2030\"](https://www.entsoe.eu/publications/system-development-reports/adequacy-forecasts/soaf-2013-2030/Pages/default.aspx)\n",
    "- EUROSTAT \"Energy Statistics\" compiled in [EU Commission's \"Energy datasheets\"](http://ec.europa.eu/energy/en/statistics/country)\n",
    "\n",
    "Beside this, the data is complemented by national sources, which includes national statistical offices, ministries, regulatory authorities, transmission system operators, as well as other associations. All data sources are listed in the datapackage.json file including their link.\n",
    "\n",
    "# 5. License\n",
    "This notebook as well as all other documents in this repository is published under the [MIT License](https://opensource.org/licenses/MIT)."
   ]
  }
 ],
 "metadata": {
  "kernelspec": {
   "display_name": "Python 3",
   "language": "python",
   "name": "python3"
  },
  "language_info": {
   "codemirror_mode": {
    "name": "ipython",
    "version": 3
   },
   "file_extension": ".py",
   "mimetype": "text/x-python",
   "name": "python",
   "nbconvert_exporter": "python",
   "pygments_lexer": "ipython3",
   "version": "3.5.2"
  }
 },
 "nbformat": 4,
 "nbformat_minor": 0
}
