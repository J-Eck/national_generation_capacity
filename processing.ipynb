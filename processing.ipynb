{
 "cells": [
  {
   "cell_type": "markdown",
   "metadata": {},
   "source": [
    "<table style=\"width:100%\">\n",
    "  <tr>\n",
    "    <td style=\"background-color:#EBF5FB; border: 1px solid #CFCFCF\">\n",
    "      <b>National generation capacity: Processing notebook</b>\n",
    "      <ul>\n",
    "          <li><a href=\"main.ipynb\">Main notebook</a></li>\n",
    "          <li>Processing notebook (this)</li>\n",
    "          <li><a href=\"tests.ipynb\">Check notebook</a></li>\n",
    "      </ul>\n",
    "      <br>This Notebook is part of the <a href=\"http://data.open-power-system-data.org/national_generation_capacity\">National Generation Capacity Datapackage</a> of <a href=\"http://open-power-system-data.org\">Open Power System Data</a>.\n",
    "    </td>\n",
    "  </tr>\n",
    "</table>"
   ]
  },
  {
   "cell_type": "markdown",
   "metadata": {},
   "source": [
    "# Table of Contents\n",
    "* [1. Introductory notes](#1.-Introductory-notes)\n",
    "* [2. Script setup](#2.-Script-setup)\n",
    "* [3. Import of data](#3.-Import-of-data)\n",
    "* [4. Conversion of data](#4.-Conversion-of-data)\n",
    "* [5. Implementation of energy source levels](#5.-Implementation-of-energy-source-levels)\n",
    "* [6. Documentation of the data package](#6.-Documentation-of-the-data-package)\n",
    "* [7. Write results to file](#7.-Write-results-to-file)\n",
    "* [8. Write checksums](#8.-Write-checksums)\n"
   ]
  },
  {
   "cell_type": "markdown",
   "metadata": {},
   "source": [
    "# 1. Introductory notes"
   ]
  },
  {
   "cell_type": "markdown",
   "metadata": {},
   "source": [
    "The script processes the compiled nationally aggregated generation capacity for European countries. Due to varying formats and data specifications of references for national generation capacity, the script focuses on rearranging the manually compiled data. Thus, the script itself does not collect, select, download or manage data from original sources."
   ]
  },
  {
   "cell_type": "markdown",
   "metadata": {},
   "source": [
    "# 2. Script setup"
   ]
  },
  {
   "cell_type": "code",
   "execution_count": null,
   "metadata": {
    "collapsed": false
   },
   "outputs": [],
   "source": [
    "import json\n",
    "import logging\n",
    "import os.path\n",
    "import shutil\n",
    "import sqlite3\n",
    "import hashlib\n",
    "\n",
    "import pandas as pd\n",
    "import yaml  # http://pyyaml.org/, pip install pyyaml, conda install pyyaml\n",
    "\n",
    "#create output folder if it does not exist\n",
    "os.makedirs('output', exist_ok=True)\n",
    "os.makedirs(os.path.join('output', 'original_data'), exist_ok=True)"
   ]
  },
  {
   "cell_type": "code",
   "execution_count": null,
   "metadata": {
    "collapsed": true
   },
   "outputs": [],
   "source": [
    "def get_sha_hash(path, blocksize=65536): \n",
    "    sha_hasher = hashlib.sha256() \n",
    "    with open(path, 'rb') as f: \n",
    "        buffer = f.read(blocksize) \n",
    "        while len(buffer) > 0: \n",
    "            sha_hasher.update(buffer) \n",
    "            buffer = f.read(blocksize) \n",
    "        return sha_hasher.hexdigest() "
   ]
  },
  {
   "cell_type": "markdown",
   "metadata": {},
   "source": [
    "# 3. Import of data"
   ]
  },
  {
   "cell_type": "markdown",
   "metadata": {},
   "source": [
    "The manually compiled dataset is imported and rearranged to a DataFrame for further processing. The dataset comprises for each European country and specified generation technology different data entries, which are based on different sources. As these sources differ by country and year, information on the corresponding reference are directly given with the data entry. "
   ]
  },
  {
   "cell_type": "code",
   "execution_count": null,
   "metadata": {
    "collapsed": false
   },
   "outputs": [],
   "source": [
    "data_file = 'National_Generation_Capacities.xlsx'\n",
    "filepath = os.path.join('input', data_file)\n",
    "\n",
    "# Read data into pandas\n",
    "data_raw = pd.read_excel(filepath,\n",
    "                         sheetname='Summary',\n",
    "                         header=None,\n",
    "                         na_values=['-'],\n",
    "                         skiprows=0)\n",
    "\n",
    "\n",
    "# Deal with merged cells from Excel: fill first three rows with information\n",
    "data_raw.iloc[0:2] = data_raw.iloc[0:2].fillna(method='ffill', axis=1)\n",
    "\n",
    "# Set index for rows\n",
    "data_raw = data_raw.set_index([0])\n",
    "data_raw.index.name = 'technology'\n",
    "\n",
    "# Extract energylevels from raw data\n",
    "energylevels = data_raw.ix[:, 0:5]\n",
    "\n",
    "# Delete definition of energy levels from raw data\n",
    "data_raw = data_raw.drop(data_raw.columns[[0, 1, 2, 3, 4]], axis=1)\n",
    "\n",
    "# Set multiindex column names\n",
    "data_raw.columns = pd.MultiIndex.from_arrays(data_raw[:6].values,\n",
    "                                             names=['country', 'type', 'year',\n",
    "                                                    'source', 'source_type',\n",
    "                                                    'capacity_definition'])\n",
    "\n",
    "# Remove 3 rows which are already used as column names\n",
    "data_raw = data_raw[pd.notnull(data_raw.index)]\n",
    "\n",
    "data_raw"
   ]
  },
  {
   "cell_type": "markdown",
   "metadata": {},
   "source": [
    "# 4. Conversion of data"
   ]
  },
  {
   "cell_type": "markdown",
   "metadata": {},
   "source": [
    "The initial raw data is given as a cross-table format. To ensure the compatibility of standard data formats, we convert the initial crosstab format of the input data to a list."
   ]
  },
  {
   "cell_type": "code",
   "execution_count": null,
   "metadata": {
    "collapsed": false
   },
   "outputs": [],
   "source": [
    "# Reshape dataframe to list\n",
    "data = pd.DataFrame(data_raw.stack(level=['source', 'source_type', 'year',\n",
    "                                          'type', 'country',\n",
    "                                          'capacity_definition']))\n",
    "\n",
    "# Reset index for dataframe\n",
    "data = data.reset_index()\n",
    "data['technology'] = data['technology'].str.replace('- ', '')\n",
    "data = data.set_index('technology')\n",
    "\n",
    "# Delete entries with missing source\n",
    "data = data[data['source'].isnull() == False]\n",
    "data = data[data['source'] != 0]\n",
    "\n",
    "data = data.rename(columns={0: 'capacity'})\n",
    "\n",
    "data['capacity'] = pd.to_numeric(data['capacity'], errors='coerce')\n",
    "\n",
    "data.head()"
   ]
  },
  {
   "cell_type": "markdown",
   "metadata": {},
   "source": [
    "# 5. Implementation of energy source levels"
   ]
  },
  {
   "cell_type": "markdown",
   "metadata": {},
   "source": [
    "Due to varying categorizations in the country-specific raw data, a revised categorization of energy sources and conversion technologies is applied with the aim to reflect the individual categorization of the different national references at the best. We specify the following four different energy source levels, which can be seen as general levels of the classification:\n",
    "\n",
    "- **Energy source level 0** - Total generation capacity\n",
    "- **Energy source level 1** - Generation capacity by energy type (fossil, nuclear, renewable, other)\n",
    "- **Energy source level 2** - Generation capacity by fuel or energy source (e.g. coal, lignite, hard coal, natural gas, wind)\n",
    "- **Energy source level 3** - Generation capacity by fuel or energy source and detailed fuel for bioenergy\n",
    "- **Technology level** - Generation capacity by fuel and technology (e.g. combined cycle natural gas, gas turbine, onshore wind, offshore wind)\n"
   ]
  },
  {
   "cell_type": "code",
   "execution_count": null,
   "metadata": {
    "collapsed": false
   },
   "outputs": [],
   "source": [
    "# Drop first rows\n",
    "energylevels = energylevels[5:]\n",
    "\n",
    "# Define multiindex for DataFrame\n",
    "energylevels.columns = pd.MultiIndex.from_arrays(energylevels[:1].values,\n",
    "                                                 names=['level'])\n",
    "\n",
    "# Delete double rows due to multiindex defintion\n",
    "energylevels = energylevels[pd.notnull(energylevels.index)]\n",
    "\n",
    "# Reset index for Dataframe\n",
    "energylevels = energylevels.reset_index()\n",
    "energylevels['technology'] = energylevels['technology'].str.replace('- ', '')\n",
    "energylevels = energylevels.set_index('technology')\n",
    "\n",
    "# Rename column headings\n",
    "energylevels.rename(columns={'Level 0': 'energy_source_level_0', \n",
    "                             'Level 1': 'energy_source_level_1', \n",
    "                             'Level 2': 'energy_source_level_2', \n",
    "                             'Level 3': 'energy_source_level_3',\n",
    "                             'Technology level': 'technology_level'},\n",
    "                    inplace=True)\n",
    "\n",
    "# Convert 0/1 assignment to boolean\n",
    "energylevels = energylevels.replace({0: False, 1: True})\n",
    "\n",
    "# Apply technology levels to data by merging both DataFrames\n",
    "data = data.merge(energylevels, \n",
    "                  left_index=True, \n",
    "                  right_index=True, \n",
    "                  how='left')\n",
    "\n",
    "data = data.reset_index()\n",
    "data.head()"
   ]
  },
  {
   "cell_type": "markdown",
   "metadata": {},
   "source": [
    "# 6. Documentation of the data package"
   ]
  },
  {
   "cell_type": "markdown",
   "metadata": {},
   "source": [
    "We document the data packages meta data in the specific format JSON as proposed by the Open Knowledge Foundation. See the Frictionless Data project by OKFN (http://data.okfn.org/) and the Data Package specifications (http://dataprotocols.org/data-packages/) for more details.\n",
    "\n",
    "In order to keep the notebook more readable, we first formulate the metadata in the human-readable YAML format using a multi-line string. We then parse the string into a Python dictionary and save that to disk as a JSON file."
   ]
  },
  {
   "cell_type": "code",
   "execution_count": null,
   "metadata": {
    "collapsed": false
   },
   "outputs": [],
   "source": [
    "# Here we define meta data of the resulting data package.\n",
    "# The meta data follows the specification at:\n",
    "# http://dataprotocols.org/data-packages/\n",
    "\n",
    "metadata = \"\"\"\n",
    "\n",
    "name: opsd-national_generation_capacity\n",
    "title: National generation capacity\n",
    "description: Aggregated generation capacity by technology and country\n",
    "long_description: This data package comprises technology-specific aggregated generation capacities for European countries. The generation capacities are consistently categorized based on fuel and technology. For each European country, various references are used ranging from international (e.g. ENTSOE or EUROSTAT) to national sources from e.g. regulatory authorities. The input data is processed in the script linked below. \n",
    "version: \"2016-10-27\"\n",
    "keywords: \n",
    "    - generation capacity\n",
    "    - conventional generation\n",
    "    - renewable generation\n",
    "    - Europe\n",
    "    - Open Power System Data\n",
    "homepage: http://data.open-power-system-data.org/national_generation_capacity/\n",
    "documentation: https://github.com/Open-Power-System-Data/national_generation_capacity/blob/2016-10-27/main.ipynb\n",
    "geographical-scope: 28 European countries\n",
    "last_changes: Revised technology classification, restructured input file format, adjusted input data to final version\n",
    "\n",
    "resources:\n",
    "    - path: national_generation_capacity.xlsx\n",
    "      format: xlsx\n",
    "      mediatype: application/vnd.openxmlformats-officedocument.spreadsheetml.sheet\n",
    "    - path: national_generation_capacity_stacked.csv\n",
    "      format: csv\n",
    "      mediatype: text/csv\n",
    "      schema:    \n",
    "        fields:\n",
    "            - name: id\n",
    "              description: ID for data entries \n",
    "              type: integer\n",
    "            - name: technology\n",
    "              description: Generation technology defined by fuel and conversion technology\n",
    "              type: string\n",
    "              opsd-contentfilter: \"true\"\n",
    "            - name: source\n",
    "              description: Source of data entry\n",
    "              type: string\n",
    "              opsd-contentfilter: \"true\"\n",
    "            - name: source_type\n",
    "              description: Type of data source\n",
    "              type: string\n",
    "              opsd-contentfilter: \"true\"\n",
    "            - name: year\n",
    "              description: Year of data entry\n",
    "              type: integer\n",
    "              format: YYYY\n",
    "              opsd-contentfilter: \"true\"\n",
    "            - name: type\n",
    "              description: Type of capacity (e.g. installed capacity)\n",
    "              type: string\n",
    "            - name: country\n",
    "              description: Country ISO code\n",
    "              type: string\n",
    "              opsd-contentfilter: \"true\"\n",
    "            - name: capacity_definition\n",
    "              description: Capacity definition used in the relevant source (net, gross, or unknown)\n",
    "              type: string\n",
    "            - name: capacity\n",
    "              description: Installed capacity in MW\n",
    "              type: float\n",
    "            - name: energy_source_level_0\n",
    "              description: Energy source level 0 (total aggregated capacity)\n",
    "              type: boolean\n",
    "            - name: energy_source_level_1\n",
    "              description: Energy source level 1 (aggregation or classification by type of fuel)\n",
    "              type: boolean\n",
    "            - name: energy_source_level_2\n",
    "              description: Energy source level 2 (aggregation or classification by fuel)\n",
    "              type: boolean\n",
    "            - name: energy_source_level_3\n",
    "              description: Energy source level 3 (aggregation or classification by fuel refined for bioenergy)\n",
    "              type: boolean\n",
    "            - name: technology_level\n",
    "              description: Technology (aggregation or classification by fuel and technology)\n",
    "              type: boolean\n",
    "    - path: national_generation_capacity_stacked.xlsx\n",
    "      format: xlsx\n",
    "      mediatype: application/vnd.openxmlformats-officedocument.spreadsheetml.sheet\n",
    "      schema:    \n",
    "        fields:\n",
    "            - name: id\n",
    "              description: ID for data entries \n",
    "              type: integer\n",
    "            - name: technology\n",
    "              description: Generation technology defined by fuel and conversion technology\n",
    "              type: string\n",
    "            - name: source\n",
    "              description: Source of data entry\n",
    "              type: string\n",
    "            - name: source_type\n",
    "              description: Type of data source\n",
    "              type: string\n",
    "            - name: year\n",
    "              description: Year of data entry\n",
    "              type: integer\n",
    "              format: YYYY\n",
    "            - name: type\n",
    "              description: Type of capacity (e.g. installed capacity)\n",
    "              type: string\n",
    "            - name: country\n",
    "              description: Country ISO code\n",
    "              type: string\n",
    "            - name: capacity_definition\n",
    "              description: Capacity definition used in the relevant source (net, gross, or unknown)\n",
    "              type: string\n",
    "            - name: capacity\n",
    "              description: Installed capacity in MW\n",
    "              type: float\n",
    "            - name: energy_source_level_0\n",
    "              description: Energy source level 0 (total aggregated capacity)\n",
    "              type: boolean\n",
    "            - name: energy_source_level_1\n",
    "              description: Energy source level 1 (aggregation or classification by type of fuel)\n",
    "              type: boolean\n",
    "            - name: energy_source_level_2\n",
    "              description: Energy source level 2 (aggregation or classification by fuel)\n",
    "              type: boolean\n",
    "            - name: energy_source_level_3\n",
    "              description: Energy source level 3 (aggregation or classification by fuel refined for bioenergy)\n",
    "              type: boolean\n",
    "            - name: technology_level\n",
    "              description: Technology (aggregation or classification by fuel and technology)\n",
    "              type: boolean\n",
    "              \n",
    "sources:\n",
    "    - name: ENTSOE\n",
    "      web: https://www.entsoe.eu/publications/system-development-reports/adequacy-forecasts/Pages/default.aspx\n",
    "    - name: EUROSTAT\n",
    "      web: http://ec.europa.eu/energy/en/statistics/country\n",
    "    - name: e-control\n",
    "      web: http://www.e-control.at/statistik/strom/bestandsstatistik\n",
    "    - name: ELIA\n",
    "      web: http://www.elia.be/en/grid-data/power-generation/generating-facilities\n",
    "    - name: UN Statistical Office\n",
    "      web: http://data.un.org/Data.aspx?d=EDATA&f=cmID%3AEC\n",
    "    - name: BFE\n",
    "      web: http://www.bfe.admin.ch/themen/00526/00541/00542/00630/index.html?dossier_id=00765\n",
    "    - name: ERU\n",
    "      web: http://www.eru.cz/en/elektrina/statistika-a-sledovani-kvality/rocni-zpravy-o-provozu\n",
    "    - name: BMWi\n",
    "      web: http://www.bmwi.de/BMWi/Redaktion/Binaer/Energiedaten/energietraeger10-stromerzeugungskapazitaeten-bruttostromerzeugung,property=blob,bereich=bmwi2012,sprache=de,rwb=true.xls\n",
    "    - name: DEA\n",
    "      web:  http://www.ens.dk/en/info/facts-figures/energy-statistics-indicators-energy-efficiency/annual-energy-statistics\n",
    "    - name: REE\n",
    "      web: http://www.ree.es/en/publications/statistical-data-of-spanish-electrical-system/national-indicators/\n",
    "    - name: RTE 2014\n",
    "      web: http://www.rte-france.com/en/document/overview-electrical-energy-france-march-2014\n",
    "    - name: RTE 2015\n",
    "      web:  http://clients.rte-france.com/lang/an/visiteurs/vie/prod/parc_reference.jsp\n",
    "    - name: Terna 2013\n",
    "      web: http://download.terna.it/terna/0000/0216/17.XLSX\n",
    "    - name: Terna 2014\n",
    "      web: http://download.terna.it/terna/0000/0216/16.XLSX\n",
    "    - name: ILR\n",
    "      web: http://www.ilr.public.lu/electricite/statistiques/index.html\n",
    "    - name: Tennet NL\n",
    "      web: http://energieinfo.tennet.org/dataexport/exporteerdatacountry.aspx?id=InstalledCapacity\n",
    "    - name: CIRE\n",
    "      web: http://www.rynek-energii-elektrycznej.cire.pl/st,33,207,tr,75,0,0,0,0,0,podstawowe-dane.html\n",
    "    - name: TSO Bulgaria \n",
    "      web: http://www.tso.bg/uploads/file/Profile/en/ESO_Annual_Report_2012_en.pdf\n",
    "    - name: Statistics Estonia\n",
    "      web: http://pub.stat.ee/px-web.2001/Dialog/varval.asp?ma=FE032&ti=CAPACITY+AND+PRODUCTION+OF+POWER+PLANTS&path=../I_Databas/Economy/07Energy/02Energy_consumption_and_production/01Annual_statistics/&lang=1\n",
    "    - name: Statistics Finland\n",
    "      web: http://pxnet2.stat.fi/PXWeb/pxweb/en/StatFin/StatFin__ene__ehk/240_ehk_tau_112_en.px/table/tableViewLayout1/?rxid=31077c25-37e4-480e-81e6-49a66cbe4dc2\n",
    "    - name: Department of Energy & Climate Change UK\n",
    "      web: https://www.gov.uk/government/statistics/electricity-chapter-5-digest-of-united-kingdom-energy-statistics-dukes \n",
    "    - name: Regulatory Authority for Energy Greece \n",
    "      web:  http://www.rae.gr/site/file/system/docs/ActionReports/national_2012\n",
    "    - name: Croation Transmission System operator (HOPS)\n",
    "      web: https://www.hops.hr/wps/wcm/connect/fbb3e297-dbfc-437a-bd36-458e02b9e7e4/Temeljni+podaci+2013.pdf?MOD=AJPERES\n",
    "    - name: Mavir 2014\n",
    "      web: http://www.mavir.hu/documents/10262/188569160/BT_terv_2014/9946a7a2-38ec-4794-9d7f-96a7a927d1b9 \n",
    "    - name: Mavir 2013\n",
    "      web: http://www.mavir.hu/documents/10262/188569160/BT_terv_2013_11_12_EN/ea873e22-bf88-4ee4-8a00-db09030bbb34\n",
    "    - name: Eirgrid\n",
    "      web: http://www.soni.ltd.uk/media/documents/Operations/CapacityStatements/All%20Island%20Generation%20Capacity%20Statement%202015.%20-%202024..pdf\n",
    "    - name: Litgrid\n",
    "      web: http://www.litgrid.eu/index.php/power-system/power-system-information/generation-capacity/546 \n",
    "    - name: Central Statistical Bureau of Latvia\n",
    "      web: http://data.csb.gov.lv/pxweb/en/vide/vide__ikgad__energetika/EN0130.px/table/tableViewLayout1/?rxid=a79839fe-11ba-4ecd-8cc3-4035692c5fc8\n",
    "    - name: Energy Ministry NO 2013\n",
    "      web:  https://www.regjeringen.no/globalassets/upload/oed/faktaheftet/facts_energy_water.pdf\n",
    "    - name: Energy Ministry NO 2015 \n",
    "      web: https://www.regjeringen.no/contentassets/fd89d9e2c39a4ac2b9c9a95bf156089a/facts_2015_energy_and_water_web.pdf \n",
    "    - name: REN\n",
    "      web: http://www.ren.pt/files/2015-05/2015-05-04145306_f7664ca7-3a1a-4b25-9f46-2056eef44c33$$72f445d4-8e31-416a-bd01-d7b980134d0f$$ee3c56e5-6d14-4aa0-ac1f-ca5006917e03$$storage_image$$pt$$1.pdf\n",
    "    - name: Anre \n",
    "      web: http://www.anre.ro/download.php?f=ga%2BCig%3D%3D&t=vdeyut7dlcecrLbbvbY%3D\n",
    "    - name: Svensk Energi\n",
    "      web: http://www.svenskenergi.se/Global/Statistik/El%C3%A5ret/El%C3%A5ret%202014_slututg%C3%A5va.pdf\n",
    "    - name: Agencija za energijo 2014\n",
    "      web: http://www.agen-rs.si/documents/10926/38704/Poro%C4%8Dilo/54b1b378-1e76-4d40-8e0d-c30339baa248\n",
    "    - name: Agencija za energijo 2013\n",
    "      web: http://www.agen-rs.si/documents/10926/0/Agencija-za-energijo---Energetika-SLO-za-2013-3.pdf/b63d191d-ecbc-4efe-8b91-1e0f80d3272b\n",
    "    - name: Statistical Office of Slovakia 2013\n",
    "      web: https://slovak.statistics.sk/PortalTraffic/fileServlet?Dokument=bcc9ac82-9eb4-4320-b460-1f5c726db355\n",
    "    - name: Statistical Office of Slovakia 2014\n",
    "      web: https://slovak.statistics.sk/PortalTraffic/fileServlet?Dokument=6d8bdb1f-528c-41b3-9564-0ff365c98bb8\n",
    "      \n",
    "\n",
    "contributors:\n",
    "    - name: Friedrich Kunz\n",
    "      email: fkunz@diw.de\n",
    "      web: http://open-power-system-data.org/\n",
    "\n",
    "\"\"\"\n",
    "\n",
    "metadata = yaml.load(metadata)\n",
    "\n",
    "datapackage_json = json.dumps(metadata, indent=4, separators=(',', ': '))"
   ]
  },
  {
   "cell_type": "markdown",
   "metadata": {},
   "source": [
    "# 7. Write results to file"
   ]
  },
  {
   "cell_type": "code",
   "execution_count": null,
   "metadata": {
    "collapsed": false
   },
   "outputs": [],
   "source": [
    "output_path = 'output'\n",
    "\n",
    "# Copy original source file to folder original_data\n",
    "shutil.copy2(os.path.join('input', data_file), \n",
    "             os.path.join('output', 'original_data', data_file))\n",
    "\n",
    "# Write the result to file\n",
    "data.to_csv(os.path.join(output_path, 'national_generation_capacity_stacked.csv'), \n",
    "            encoding='utf-8', index_label='ID')\n",
    "\n",
    "# Write the results to excel file\n",
    "data.to_excel(os.path.join(output_path, 'national_generation_capacity_stacked.xlsx'), \n",
    "              sheet_name='output', index_label='ID')\n",
    "shutil.copy2(os.path.join('input', data_file), \n",
    "             os.path.join('output', 'national_generation_capacity.xlsx'))\n",
    "\n",
    "# Write the results to sql database\n",
    "data.to_sql('national_generation_capacity_stacked',\n",
    "            sqlite3.connect(os.path.join(output_path, \n",
    "                                         'national_generation_capacity.sqlite')),\n",
    "            if_exists=\"replace\",index_label='ID')\n",
    "\n",
    "# Write the information of the metadata\n",
    "with open(os.path.join(output_path, 'datapackage.json'), 'w') as f:\n",
    "    f.write(datapackage_json)"
   ]
  },
  {
   "cell_type": "markdown",
   "metadata": {},
   "source": [
    "# 8. Write checksums"
   ]
  },
  {
   "cell_type": "code",
   "execution_count": null,
   "metadata": {
    "collapsed": true
   },
   "outputs": [],
   "source": [
    "files = [ \n",
    "    'national_generation_capacity.xlsx', \n",
    "    'national_generation_capacity_stacked.csv', 'national_generation_capacity_stacked.xlsx', \n",
    "    'national_generation_capacity.sqlite' \n",
    "] \n",
    "\n",
    "with open(os.path.join(output_path, 'checksums.txt'), 'w') as f: \n",
    "    for file_name in files: \n",
    "        file_hash = get_sha_hash(os.path.join(output_path, file_name)) \n",
    "        f.write('{},{}\\n'.format(file_name, file_hash)) "
   ]
  }
 ],
 "metadata": {
  "anaconda-cloud": {},
  "kernelspec": {
   "display_name": "Python [default]",
   "language": "python",
   "name": "python3"
  },
  "language_info": {
   "codemirror_mode": {
    "name": "ipython",
    "version": 3
   },
   "file_extension": ".py",
   "mimetype": "text/x-python",
   "name": "python",
   "nbconvert_exporter": "python",
   "pygments_lexer": "ipython3",
   "version": "3.5.2"
  }
 },
 "nbformat": 4,
 "nbformat_minor": 0
}
