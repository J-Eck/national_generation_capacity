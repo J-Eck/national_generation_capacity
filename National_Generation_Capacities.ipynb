{
 "cells": [
  {
   "cell_type": "markdown",
   "metadata": {},
   "source": [
    "# Table of Contents\n",
    "* [National Generation Capacities](#National-Generation-Capacities)\n",
    "\t* [Prepare Environment](#Prepare-Environment)\n",
    "\t* [Import raw data from Excel-file](#Import-raw-data-from-Excel-file)\n",
    "\t* [Convert raw data to list](#Convert-raw-data-to-list)\n",
    "\t* [Define technology levels](#Define-technology-levels)\n",
    "\t* [Print results of technology levels](#Print-results-of-technology-levels)\n",
    "\t\t* [Technology level 1](#Technology-level-1)\n",
    "\t\t* [Technology level 2](#Technology-level-2)\n",
    "\t\t* [Technology level 3](#Technology-level-3)\n",
    "\t* [Comparison of different technology levels for all countries](#Comparison-of-different-technology-levels-for-all-countries)\n",
    "\t* [Comparison of different technology levels for a selection](#Comparison-of-different-technology-levels-for-a-selection)\n",
    "* [Documenting the data package (meta data)](#Documenting-the-data-package-%28meta-data%29)\n",
    "* [Write results to file](#Write-results-to-file)\n"
   ]
  },
  {
   "cell_type": "markdown",
   "metadata": {},
   "source": [
    "# National Generation Capacities"
   ]
  },
  {
   "cell_type": "markdown",
   "metadata": {},
   "source": [
    "## Prepare Environment "
   ]
  },
  {
   "cell_type": "code",
   "execution_count": null,
   "metadata": {
    "collapsed": false
   },
   "outputs": [],
   "source": [
    "import urllib.request\n",
    "import csv\n",
    "import pandas as pd\n",
    "import numpy as np\n",
    "import posixpath\n",
    "import urllib.parse\n",
    "import datetime  \n",
    "import re\n",
    "import os.path\n",
    "import yaml  # http://pyyaml.org/, pip install pyyaml, conda install pyyaml\n",
    "import json\n",
    "import subprocess\n",
    "from bokeh.charts import Scatter, show\n",
    "from bokeh.io import output_notebook\n",
    "output_notebook()\n",
    "%matplotlib inline\n",
    "import logging\n",
    "logger = logging.getLogger('notebook')\n",
    "logger.setLevel('INFO')\n",
    "nb_root_logger = logging.getLogger()\n",
    "formatter = logging.Formatter('%(asctime)s - %(name)s - %(levelname)s - %(message)s',\n",
    "                              datefmt='%d %b %Y %H:%M:%S')\n",
    "nb_root_logger.handlers[0].setFormatter(formatter)\n",
    "\n",
    "#create download and output folder if they do not exist\n",
    "if not os.path.exists('output/'): os.makedirs('output/')\n",
    "if not os.path.exists('output/datapackage_generation_capacities'): os.makedirs('output/datapackage_generation_capacities')"
   ]
  },
  {
   "cell_type": "markdown",
   "metadata": {},
   "source": [
    "## Import raw data from Excel-file"
   ]
  },
  {
   "cell_type": "code",
   "execution_count": null,
   "metadata": {
    "collapsed": false
   },
   "outputs": [],
   "source": [
    "data_file = '20160116_Generation_Capacity_Europe_v01__RET_FK.xlsx'\n",
    "filepath = 'inputs/'+data_file\n",
    "data_raw = pd.read_excel(filepath,\n",
    "                     sheetname='Summary',\n",
    "                     header=None,\n",
    "                     na_values = ['-'],\n",
    "                     skiprows=0)\n",
    "\n",
    "# Deal with merged cells in Excel:Fill first three rows with information \n",
    "data_raw.iloc[0:2] = data_raw.iloc[0:2].fillna(method='ffill', axis=1)\n",
    "\n",
    "#Set index for rows\n",
    "data_raw=data_raw.set_index([0])\n",
    "data_raw.index.name='technology' \n",
    "\n",
    "#set multiindex column names\n",
    "data_raw.columns=pd.MultiIndex.from_arrays(data_raw[:4].values, names=['country','type','year','source']) \n",
    "\n",
    "#remove 3 rows which are already used as column names\n",
    "data_raw = data_raw[pd.notnull(data_raw.index)] \n",
    "\n",
    "data_raw"
   ]
  },
  {
   "cell_type": "markdown",
   "metadata": {},
   "source": [
    "## Convert raw data to list"
   ]
  },
  {
   "cell_type": "code",
   "execution_count": null,
   "metadata": {
    "collapsed": false
   },
   "outputs": [],
   "source": [
    "# Reshape Dateframe to list\n",
    "data = pd.DataFrame(data_raw.stack(level=['source','year','type','country']))\n",
    "\n",
    "# reset index for Dataframe\n",
    "data=data.reset_index()\n",
    "data=data.set_index('technology')\n",
    "\n",
    "# delete entries with missing source\n",
    "data = data[data['source'].isnull() == False]\n",
    "\n",
    "data=data.rename(columns={0: 'value'})\n",
    "\n",
    "data['value'] = pd.to_numeric(data['value'], errors='coerce')\n",
    "\n",
    "data.head()"
   ]
  },
  {
   "cell_type": "markdown",
   "metadata": {},
   "source": [
    "## Define technology levels"
   ]
  },
  {
   "cell_type": "code",
   "execution_count": null,
   "metadata": {
    "collapsed": false,
    "scrolled": true
   },
   "outputs": [],
   "source": [
    "data['technology_level'] = '3'\n",
    "\n",
    "data.loc['Total','technology_level'] = '0'\n",
    "\n",
    "data.loc['Conventional fuels','technology_level'] = '1'\n",
    "data.loc['Renewable fuels','technology_level'] = '1'\n",
    "data.loc['Other fuels','technology_level'] = '1, 2, 3'\n",
    "\n",
    "data.loc['Fossil fuels','technology_level'] = '2'\n",
    "data.loc['Nuclear','technology_level'] = '2, 3'\n",
    "data.loc['Hydro','technology_level'] = '2'\n",
    "data.loc['Wind','technology_level'] = '2'\n",
    "data.loc['Solar','technology_level'] = '2'\n",
    "data.loc['Geothermal','technology_level'] = '2, 3'\n",
    "data.loc['Tide, wave, and ocean','technology_level'] = '2, 3'\n",
    "data.loc['Other renewable fuels','technology_level'] = '2'\n",
    "data['technology_level']\n",
    "\n",
    "data=data.reset_index()\n",
    "data.head()\n"
   ]
  },
  {
   "cell_type": "markdown",
   "metadata": {},
   "source": [
    "## Print results of technology levels"
   ]
  },
  {
   "cell_type": "markdown",
   "metadata": {},
   "source": [
    "### Technology level 1"
   ]
  },
  {
   "cell_type": "code",
   "execution_count": null,
   "metadata": {
    "collapsed": false
   },
   "outputs": [],
   "source": [
    "pivot_capacity_level1 = pd.pivot_table(data[data.technology_level.str.contains('1')],\n",
    "                               index=('country','year','source'),\n",
    "                               columns = ('technology'),\n",
    "                               values='value',\n",
    "                               aggfunc=sum,\n",
    "                               margins=False)\n",
    "\n",
    "pivot_capacity_plot=pivot_capacity_level1.plot(kind='bar',stacked=True, legend=True, figsize=(12, 6))\n",
    "pivot_capacity_plot.legend(loc='center left', bbox_to_anchor=(1.0, 0.5))\n",
    "pivot_capacity_plot.set_ylim(0,250000)\n",
    "\n",
    "pivot_capacity_plot\n",
    "pivot_capacity_level1"
   ]
  },
  {
   "cell_type": "markdown",
   "metadata": {},
   "source": [
    "### Technology level 2"
   ]
  },
  {
   "cell_type": "code",
   "execution_count": null,
   "metadata": {
    "collapsed": false,
    "scrolled": false
   },
   "outputs": [],
   "source": [
    "pivot_capacity_level2 = pd.pivot_table(data[data.technology_level.str.contains('2')],\n",
    "                               index=('country','year','source'),\n",
    "                               columns = ('technology'),\n",
    "                               values='value',\n",
    "                               aggfunc=sum,\n",
    "                               margins=False)\n",
    "\n",
    "pivot_capacity_plot=pivot_capacity_level2.plot(kind='bar',stacked=True, legend=True, figsize=(12, 6))\n",
    "pivot_capacity_plot.legend(loc='center left', bbox_to_anchor=(1.0, 0.5))\n",
    "pivot_capacity_plot.set_ylim(0,250000)\n",
    "\n",
    "pivot_capacity_plot\n",
    "pivot_capacity_level2"
   ]
  },
  {
   "cell_type": "markdown",
   "metadata": {},
   "source": [
    "### Technology level 3"
   ]
  },
  {
   "cell_type": "code",
   "execution_count": null,
   "metadata": {
    "collapsed": false,
    "scrolled": false
   },
   "outputs": [],
   "source": [
    "pivot_capacity_level3 = pd.pivot_table(data[data.technology_level.str.contains('3')],\n",
    "                               index=('country','year','source'),\n",
    "                               columns = ('technology'),\n",
    "                               values='value',\n",
    "                               aggfunc=sum,\n",
    "                               margins=False)\n",
    "\n",
    "pivot_capacity_plot=pivot_capacity_level3.plot(kind='bar',stacked=True, legend=True, figsize=(12, 6))\n",
    "pivot_capacity_plot.legend(loc='center left', bbox_to_anchor=(1.0, 0.5))\n",
    "pivot_capacity_plot.set_ylim(0,250000)\n",
    "\n",
    "pivot_capacity_plot\n",
    "pivot_capacity_level3"
   ]
  },
  {
   "cell_type": "markdown",
   "metadata": {},
   "source": [
    "## Comparison of different technology levels for all countries"
   ]
  },
  {
   "cell_type": "code",
   "execution_count": null,
   "metadata": {
    "collapsed": false,
    "scrolled": false
   },
   "outputs": [],
   "source": [
    "capacity_total_1 = pd.DataFrame(data[data['technology_level'].str.contains('1')].groupby(['source','year','type','country'])['value'].sum())\n",
    "capacity_total_2 = pd.DataFrame(data[data['technology_level'].str.contains('2')].groupby(['source','year','type','country'])['value'].sum())\n",
    "capacity_total_3 = pd.DataFrame(data[data['technology_level'].str.contains('3')].groupby(['source','year','type','country'])['value'].sum())\n",
    "\n",
    "capacity_total_comparison = pd.DataFrame(capacity_total_1)\n",
    "capacity_total_comparison = pd.merge(capacity_total_1, capacity_total_2,left_index=True,right_index=True,how='left')\n",
    "capacity_total_comparison = pd.merge(capacity_total_comparison, capacity_total_3,left_index=True,right_index=True,how='left')\n",
    "\n",
    "capacity_total_comparison = capacity_total_comparison.rename(columns={'value_x': 'technology level 1','value_y': 'technology level 2','value': 'technology level 3'})\n",
    "\n",
    "capacity_total_comparison = capacity_total_comparison.sortlevel(['country','year'])\n",
    "\n",
    "capacity_total_pivot_plot = capacity_total_comparison.plot(kind='bar',stacked=False, legend=True, figsize=(12, 6))\n",
    "capacity_total_pivot_plot.legend(loc='center left', bbox_to_anchor=(1.0, 0.5))\n",
    "#capacity_total_pivot_plot.set_ylim(0,250000)\n",
    "\n",
    "capacity_total_pivot_plot\n",
    "capacity_total_comparison"
   ]
  },
  {
   "cell_type": "markdown",
   "metadata": {},
   "source": [
    "## Comparison of different technology levels for a selection"
   ]
  },
  {
   "cell_type": "code",
   "execution_count": null,
   "metadata": {
    "collapsed": false
   },
   "outputs": [],
   "source": [
    "capacity_total_comparison = pd.DataFrame(capacity_total_comparison.stack()).reset_index().rename(columns={'level_4': 'technology_level',0: 'value'})\n",
    "\n",
    "capacity_total_pivot = pd.pivot_table(\n",
    "                               # select specific country for comparison\n",
    "#                               capacity_total_comparison[capacity_total_comparison['country']=='BE'],\n",
    "                               # select specific source for comparison \n",
    "                               capacity_total_comparison[capacity_total_comparison['source']=='entsoe'],\n",
    "                               index=('country','year','source'),\n",
    "                               columns='technology_level', \n",
    "                               values='value',\n",
    "                               aggfunc=sum,\n",
    "                               margins=False)\n",
    "\n",
    "capacity_total_pivot_plot = capacity_total_pivot.plot(kind='bar',stacked=False, legend=True, figsize=(12, 6))\n",
    "capacity_total_pivot_plot.legend(loc='center left', bbox_to_anchor=(1.0, 0.5))\n",
    "#capacity_total_pivot_plot.set_ylim(0,250000)\n",
    "\n",
    "capacity_total_pivot_plot\n",
    "capacity_total_pivot"
   ]
  },
  {
   "cell_type": "markdown",
   "metadata": {},
   "source": [
    "# Documenting the data package (meta data)"
   ]
  },
  {
   "cell_type": "markdown",
   "metadata": {},
   "source": [
    "We document the data packages meta data in the specific format JSON as proposed by the Open Knowledge Foundation. See the Frictionless Data project by OKFN (http://data.okfn.org/) and the Data Package specifications (http://dataprotocols.org/data-packages/) for more details.\n",
    "\n",
    "In order to keep the notebook more readable, we first formulate the metadata in the human-readable YAML format using a multi-line string. We then parse the string into a Python dictionary and save that to disk as a JSON file."
   ]
  },
  {
   "cell_type": "code",
   "execution_count": null,
   "metadata": {
    "collapsed": true
   },
   "outputs": [],
   "source": [
    "# Here we define meta data of the resulting data package.\n",
    "# The meta data follows the specification at:\n",
    "# http://dataprotocols.org/data-packages/\n",
    "\n",
    "metadata = \"\"\"\n",
    "\n",
    "name: opsd-power-plants-germany\n",
    "title: List of power plants in Germany.\n",
    "description: This dataset contains an augmented and corrected power plant list based on the power plant list provided by the BNetzA.\n",
    "version: 0.0.1\n",
    "keywords: [power plants,germany]\n",
    "\n",
    "resources:\n",
    "    path: power_plants_germany.csv\n",
    "    format: csv\n",
    "    mediatype: text/csv\n",
    "    schema:  # Schema according to: http://dataprotocols.org/json-table-schema/        \n",
    "        fields:\n",
    "            - name: id\n",
    "              description: \n",
    "              type: string\n",
    "            - name: technology\n",
    "              description: \n",
    "              type: string\n",
    "            - name: source\n",
    "              description: \n",
    "              type: string\n",
    "            - name: year\n",
    "              description: \n",
    "              type: string\n",
    "              format:\n",
    "            - name: type\n",
    "              description: \n",
    "              type: \n",
    "              format:\n",
    "            - name: country\n",
    "              description: \n",
    "              type: \n",
    "              format:\n",
    "            - name: value\n",
    "              description: \n",
    "              type: float\n",
    "              format:\n",
    "\n",
    "licenses:\n",
    "    - url: http://example.com/license/url/here\n",
    "      name: License Name Here\n",
    "      version: 1.0\n",
    "      id: license-id-from-open\n",
    "\n",
    "sources:\n",
    "    - name: ,\n",
    "      web: \n",
    "    - name: ,\n",
    "      web: \n",
    "\n",
    "maintainers:\n",
    "    - name: OPSD-Team,\n",
    "      email: OPSD-Team-email,\n",
    "      web: http://open-power-system-data.org/\n",
    "\n",
    "views:\n",
    "    # You can put hints here which kind of graphs or maps make sense to display your data. This makes the \n",
    "    # Data Package Viewer at http://data.okfn.org/tools/view automatically display visualazations of your data.\n",
    "    # See http://data.okfn.org/doc/data-package#views for more details.    \n",
    "\n",
    "# extend your datapackage.json with attributes that are not\n",
    "# part of the data package spec\n",
    "# you can add your own attributes to a datapackage.json, too\n",
    "\n",
    "openpowersystemdata-enable-listing: True  # This is just an example we don't actually make use of yet.\n",
    "\n",
    "\n",
    "\"\"\"\n",
    "\n",
    "metadata = yaml.load(metadata)\n",
    "\n",
    "datapackage_json = json.dumps(metadata, indent=4, separators=(',', ': '))"
   ]
  },
  {
   "cell_type": "markdown",
   "metadata": {},
   "source": [
    "# Write results to file"
   ]
  },
  {
   "cell_type": "code",
   "execution_count": null,
   "metadata": {
    "collapsed": true
   },
   "outputs": [],
   "source": [
    "output_path = 'output/datapackage_generation_capacities/'\n",
    "output_path2 = 'output/datapackage_generation_capacities'\n",
    "\n",
    "#Write the result to file\n",
    "data_raw.to_csv(output_path+'national_generation_capacities_crosstab.csv', encoding='utf-8')\n",
    "\n",
    "#Write the results to excel file\n",
    "data_raw.to_excel(output_path+'national_generation_capacities_crosstab.xlsx', sheet_name='output')\n",
    "\n",
    "#Write the result to file\n",
    "data.to_csv(output_path+'national_generation_capacities.csv', encoding='utf-8')\n",
    "\n",
    "#Write the results to excel file\n",
    "data.to_excel(output_path+'national_generation_capacities.xlsx', sheet_name='output')\n",
    "\n",
    "#Write the information of the metadata\n",
    "#with open(os.path.join(output_path, 'datapackage.json'), 'w') as f:\n",
    "#    f.write(datapackage_json)\n",
    "\n",
    "#Set this string to this notebook's filename!    \n",
    "#nb_filename = 'National_Generation_Capacities.ipynb'\n",
    "\n",
    "# Save a copy of the notebook to markdown, to serve as the package README file\n",
    "#subprocess.call(['ipython', 'nbconvert', '--to', 'markdown', nb_filename])\n",
    "#path_readme = os.path.join(output_path2, 'README.md')\n",
    "#try:\n",
    "#    os.remove(path_readme)\n",
    "#except Exception:\n",
    "#    pass\n",
    "#os.rename(nb_filename.replace('.ipynb', '.md'), path_readme)    \n",
    " "
   ]
  },
  {
   "cell_type": "code",
   "execution_count": null,
   "metadata": {
    "collapsed": true
   },
   "outputs": [],
   "source": []
  }
 ],
 "metadata": {
  "kernelspec": {
   "display_name": "Python 3",
   "language": "python",
   "name": "python3"
  },
  "language_info": {
   "codemirror_mode": {
    "name": "ipython",
    "version": 3
   },
   "file_extension": ".py",
   "mimetype": "text/x-python",
   "name": "python",
   "nbconvert_exporter": "python",
   "pygments_lexer": "ipython3",
   "version": "3.4.3"
  }
 },
 "nbformat": 4,
 "nbformat_minor": 0
}
