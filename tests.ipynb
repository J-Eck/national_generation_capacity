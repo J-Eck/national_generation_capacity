{
 "cells": [
  {
   "cell_type": "markdown",
   "metadata": {},
   "source": [
    "<table style=\"width:100%\">\n",
    "  <tr>\n",
    "    <td style=\"background-color:#EBF5FB; border: 1px solid #CFCFCF\">\n",
    "      <b>National generation capacity: Check notebook</b>\n",
    "      <ul>\n",
    "          <li><a href=\"main.ipynb\">Main notebook</a></li>\n",
    "          <li><a href=\"processing.ipynb\">Processing notebook</a></li>\n",
    "          <li>Check notebook (this)</li>\n",
    "      </ul>\n",
    "      <br>This Notebook is part of the <a href=\"http://data.open-power-system-data.org/national_generation_capacity\">National Generation Capacity Datapackage</a> of <a href=\"http://open-power-system-data.org\">Open Power System Data</a>.\n",
    "    </td>\n",
    "  </tr>\n",
    "</table>"
   ]
  },
  {
   "cell_type": "markdown",
   "metadata": {},
   "source": [
    "# Table of Contents\n",
    "* [1. Introductory notes](#1.-Introductory-notes)\n",
    "* [2. Script setup](#2.-Script-setup)\n",
    "* [3. Import of processed data](#3.-Import-of-processed-data)\n",
    "* [4. Visualisation of results for different energy source levels](#4.-Visualisation-of-results-for-different-energy-source-levels)\n",
    "\t* [4.1 Energy source level 1](#4.1-Energy-source-level-1)\n",
    "\t\t* [4.1.1 Table](#4.1.1-Table)\n",
    "\t\t* [4.1.2 Bokeh chart](#4.1.2-Bokeh-chart)\n",
    "\t* [4.2 Energy source level 2](#4.2-Energy-source-level-2)\n",
    "\t\t* [4.2.1 Table](#4.2.1-Table)\n",
    "\t\t* [4.2.2 Bokeh chart](#4.2.2-Bokeh-chart)\n",
    "\t* [4.3 Energy source level 3](#4.3-Energy-source-level-3)\n",
    "\t\t* [4.3.1 Table](#4.3.1-Table)\n",
    "\t\t* [4.3.2 Bokeh chart](#4.3.2-Bokeh-chart)\n",
    "\t* [4.4 Technology level](#4.4-Technology-level)\n",
    "\t\t* [4.4.1 Table](#4.4.1-Table)\n",
    "\t\t* [4.4.2 Bokeh chart](#4.4.2-Bokeh-chart)\n",
    "* [5. Comparison of total capacity for energy source levels](#5.-Comparison-of-total-capacity-for-energy-source-levels)\n",
    "\t* [5.1 Calculation of total capacity for energy source levels](#5.1-Calculation-of-total-capacity-for-energy-source-levels)\n",
    "\t* [5.2 Identifcation of capacity differences for energy source levels](#5.2-Identifcation-of-capacity-differences-for-energy-source-levels)\n"
   ]
  },
  {
   "cell_type": "markdown",
   "metadata": {
    "collapsed": true
   },
   "source": [
    "# 1. Introductory notes"
   ]
  },
  {
   "cell_type": "markdown",
   "metadata": {},
   "source": [
    "The notebook extends the [processing notebook](processing.ipynb) to make visualisations and perform consistency checks."
   ]
  },
  {
   "cell_type": "markdown",
   "metadata": {
    "collapsed": true
   },
   "source": [
    "# 2. Script setup"
   ]
  },
  {
   "cell_type": "code",
   "execution_count": null,
   "metadata": {},
   "outputs": [],
   "source": [
    "import pandas as pd\n",
    "import numpy as np\n",
    "import os.path\n",
    "import logging\n",
    "\n",
    "from bokeh.charts import Bar, output_file, show\n",
    "from bokeh.io import output_notebook\n",
    "from bokeh.models import HoverTool, NumeralTickFormatter\n",
    "from bokeh.charts.attributes import color\n",
    "\n",
    "output_notebook()\n",
    "\n",
    "%matplotlib inline\n",
    "\n",
    "logging.basicConfig(\n",
    "    level=logging.INFO,\n",
    "    format='%(asctime)s - %(name)s - %(levelname)s - %(message)s',\n",
    "    datefmt='%d %b %Y %H:%M:%S'\n",
    "    )\n",
    "\n",
    "logger = logging.getLogger()"
   ]
  },
  {
   "cell_type": "code",
   "execution_count": 1,
   "metadata": {},
   "outputs": [
    {
     "data": {
      "text/html": [
       "\n",
       "    <div class=\"bk-root\">\n",
       "        <a href=\"https://bokeh.org\" target=\"_blank\" class=\"bk-logo bk-logo-small bk-logo-notebook\"></a>\n",
       "        <span id=\"1001\">Loading BokehJS ...</span>\n",
       "    </div>"
      ]
     },
     "metadata": {},
     "output_type": "display_data"
    },
    {
     "data": {
      "application/javascript": [
       "\n",
       "(function(root) {\n",
       "  function now() {\n",
       "    return new Date();\n",
       "  }\n",
       "\n",
       "  var force = true;\n",
       "\n",
       "  if (typeof root._bokeh_onload_callbacks === \"undefined\" || force === true) {\n",
       "    root._bokeh_onload_callbacks = [];\n",
       "    root._bokeh_is_loading = undefined;\n",
       "  }\n",
       "\n",
       "  var JS_MIME_TYPE = 'application/javascript';\n",
       "  var HTML_MIME_TYPE = 'text/html';\n",
       "  var EXEC_MIME_TYPE = 'application/vnd.bokehjs_exec.v0+json';\n",
       "  var CLASS_NAME = 'output_bokeh rendered_html';\n",
       "\n",
       "  /**\n",
       "   * Render data to the DOM node\n",
       "   */\n",
       "  function render(props, node) {\n",
       "    var script = document.createElement(\"script\");\n",
       "    node.appendChild(script);\n",
       "  }\n",
       "\n",
       "  /**\n",
       "   * Handle when an output is cleared or removed\n",
       "   */\n",
       "  function handleClearOutput(event, handle) {\n",
       "    var cell = handle.cell;\n",
       "\n",
       "    var id = cell.output_area._bokeh_element_id;\n",
       "    var server_id = cell.output_area._bokeh_server_id;\n",
       "    // Clean up Bokeh references\n",
       "    if (id != null && id in Bokeh.index) {\n",
       "      Bokeh.index[id].model.document.clear();\n",
       "      delete Bokeh.index[id];\n",
       "    }\n",
       "\n",
       "    if (server_id !== undefined) {\n",
       "      // Clean up Bokeh references\n",
       "      var cmd = \"from bokeh.io.state import curstate; print(curstate().uuid_to_server['\" + server_id + \"'].get_sessions()[0].document.roots[0]._id)\";\n",
       "      cell.notebook.kernel.execute(cmd, {\n",
       "        iopub: {\n",
       "          output: function(msg) {\n",
       "            var id = msg.content.text.trim();\n",
       "            if (id in Bokeh.index) {\n",
       "              Bokeh.index[id].model.document.clear();\n",
       "              delete Bokeh.index[id];\n",
       "            }\n",
       "          }\n",
       "        }\n",
       "      });\n",
       "      // Destroy server and session\n",
       "      var cmd = \"import bokeh.io.notebook as ion; ion.destroy_server('\" + server_id + \"')\";\n",
       "      cell.notebook.kernel.execute(cmd);\n",
       "    }\n",
       "  }\n",
       "\n",
       "  /**\n",
       "   * Handle when a new output is added\n",
       "   */\n",
       "  function handleAddOutput(event, handle) {\n",
       "    var output_area = handle.output_area;\n",
       "    var output = handle.output;\n",
       "\n",
       "    // limit handleAddOutput to display_data with EXEC_MIME_TYPE content only\n",
       "    if ((output.output_type != \"display_data\") || (!output.data.hasOwnProperty(EXEC_MIME_TYPE))) {\n",
       "      return\n",
       "    }\n",
       "\n",
       "    var toinsert = output_area.element.find(\".\" + CLASS_NAME.split(' ')[0]);\n",
       "\n",
       "    if (output.metadata[EXEC_MIME_TYPE][\"id\"] !== undefined) {\n",
       "      toinsert[toinsert.length - 1].firstChild.textContent = output.data[JS_MIME_TYPE];\n",
       "      // store reference to embed id on output_area\n",
       "      output_area._bokeh_element_id = output.metadata[EXEC_MIME_TYPE][\"id\"];\n",
       "    }\n",
       "    if (output.metadata[EXEC_MIME_TYPE][\"server_id\"] !== undefined) {\n",
       "      var bk_div = document.createElement(\"div\");\n",
       "      bk_div.innerHTML = output.data[HTML_MIME_TYPE];\n",
       "      var script_attrs = bk_div.children[0].attributes;\n",
       "      for (var i = 0; i < script_attrs.length; i++) {\n",
       "        toinsert[toinsert.length - 1].firstChild.setAttribute(script_attrs[i].name, script_attrs[i].value);\n",
       "      }\n",
       "      // store reference to server id on output_area\n",
       "      output_area._bokeh_server_id = output.metadata[EXEC_MIME_TYPE][\"server_id\"];\n",
       "    }\n",
       "  }\n",
       "\n",
       "  function register_renderer(events, OutputArea) {\n",
       "\n",
       "    function append_mime(data, metadata, element) {\n",
       "      // create a DOM node to render to\n",
       "      var toinsert = this.create_output_subarea(\n",
       "        metadata,\n",
       "        CLASS_NAME,\n",
       "        EXEC_MIME_TYPE\n",
       "      );\n",
       "      this.keyboard_manager.register_events(toinsert);\n",
       "      // Render to node\n",
       "      var props = {data: data, metadata: metadata[EXEC_MIME_TYPE]};\n",
       "      render(props, toinsert[toinsert.length - 1]);\n",
       "      element.append(toinsert);\n",
       "      return toinsert\n",
       "    }\n",
       "\n",
       "    /* Handle when an output is cleared or removed */\n",
       "    events.on('clear_output.CodeCell', handleClearOutput);\n",
       "    events.on('delete.Cell', handleClearOutput);\n",
       "\n",
       "    /* Handle when a new output is added */\n",
       "    events.on('output_added.OutputArea', handleAddOutput);\n",
       "\n",
       "    /**\n",
       "     * Register the mime type and append_mime function with output_area\n",
       "     */\n",
       "    OutputArea.prototype.register_mime_type(EXEC_MIME_TYPE, append_mime, {\n",
       "      /* Is output safe? */\n",
       "      safe: true,\n",
       "      /* Index of renderer in `output_area.display_order` */\n",
       "      index: 0\n",
       "    });\n",
       "  }\n",
       "\n",
       "  // register the mime type if in Jupyter Notebook environment and previously unregistered\n",
       "  if (root.Jupyter !== undefined) {\n",
       "    var events = require('base/js/events');\n",
       "    var OutputArea = require('notebook/js/outputarea').OutputArea;\n",
       "\n",
       "    if (OutputArea.prototype.mime_types().indexOf(EXEC_MIME_TYPE) == -1) {\n",
       "      register_renderer(events, OutputArea);\n",
       "    }\n",
       "  }\n",
       "\n",
       "  \n",
       "  if (typeof (root._bokeh_timeout) === \"undefined\" || force === true) {\n",
       "    root._bokeh_timeout = Date.now() + 5000;\n",
       "    root._bokeh_failed_load = false;\n",
       "  }\n",
       "\n",
       "  var NB_LOAD_WARNING = {'data': {'text/html':\n",
       "     \"<div style='background-color: #fdd'>\\n\"+\n",
       "     \"<p>\\n\"+\n",
       "     \"BokehJS does not appear to have successfully loaded. If loading BokehJS from CDN, this \\n\"+\n",
       "     \"may be due to a slow or bad network connection. Possible fixes:\\n\"+\n",
       "     \"</p>\\n\"+\n",
       "     \"<ul>\\n\"+\n",
       "     \"<li>re-rerun `output_notebook()` to attempt to load from CDN again, or</li>\\n\"+\n",
       "     \"<li>use INLINE resources instead, as so:</li>\\n\"+\n",
       "     \"</ul>\\n\"+\n",
       "     \"<code>\\n\"+\n",
       "     \"from bokeh.resources import INLINE\\n\"+\n",
       "     \"output_notebook(resources=INLINE)\\n\"+\n",
       "     \"</code>\\n\"+\n",
       "     \"</div>\"}};\n",
       "\n",
       "  function display_loaded() {\n",
       "    var el = document.getElementById(\"1001\");\n",
       "    if (el != null) {\n",
       "      el.textContent = \"BokehJS is loading...\";\n",
       "    }\n",
       "    if (root.Bokeh !== undefined) {\n",
       "      if (el != null) {\n",
       "        el.textContent = \"BokehJS \" + root.Bokeh.version + \" successfully loaded.\";\n",
       "      }\n",
       "    } else if (Date.now() < root._bokeh_timeout) {\n",
       "      setTimeout(display_loaded, 100)\n",
       "    }\n",
       "  }\n",
       "\n",
       "\n",
       "  function run_callbacks() {\n",
       "    try {\n",
       "      root._bokeh_onload_callbacks.forEach(function(callback) {\n",
       "        if (callback != null)\n",
       "          callback();\n",
       "      });\n",
       "    } finally {\n",
       "      delete root._bokeh_onload_callbacks\n",
       "    }\n",
       "    console.debug(\"Bokeh: all callbacks have finished\");\n",
       "  }\n",
       "\n",
       "  function load_libs(css_urls, js_urls, callback) {\n",
       "    if (css_urls == null) css_urls = [];\n",
       "    if (js_urls == null) js_urls = [];\n",
       "\n",
       "    root._bokeh_onload_callbacks.push(callback);\n",
       "    if (root._bokeh_is_loading > 0) {\n",
       "      console.debug(\"Bokeh: BokehJS is being loaded, scheduling callback at\", now());\n",
       "      return null;\n",
       "    }\n",
       "    if (js_urls == null || js_urls.length === 0) {\n",
       "      run_callbacks();\n",
       "      return null;\n",
       "    }\n",
       "    console.debug(\"Bokeh: BokehJS not loaded, scheduling load and callback at\", now());\n",
       "    root._bokeh_is_loading = css_urls.length + js_urls.length;\n",
       "\n",
       "    function on_load() {\n",
       "      root._bokeh_is_loading--;\n",
       "      if (root._bokeh_is_loading === 0) {\n",
       "        console.debug(\"Bokeh: all BokehJS libraries/stylesheets loaded\");\n",
       "        run_callbacks()\n",
       "      }\n",
       "    }\n",
       "\n",
       "    function on_error() {\n",
       "      console.error(\"failed to load \" + url);\n",
       "    }\n",
       "\n",
       "    for (var i = 0; i < css_urls.length; i++) {\n",
       "      var url = css_urls[i];\n",
       "      const element = document.createElement(\"link\");\n",
       "      element.onload = on_load;\n",
       "      element.onerror = on_error;\n",
       "      element.rel = \"stylesheet\";\n",
       "      element.type = \"text/css\";\n",
       "      element.href = url;\n",
       "      console.debug(\"Bokeh: injecting link tag for BokehJS stylesheet: \", url);\n",
       "      document.body.appendChild(element);\n",
       "    }\n",
       "\n",
       "    for (var i = 0; i < js_urls.length; i++) {\n",
       "      var url = js_urls[i];\n",
       "      var element = document.createElement('script');\n",
       "      element.onload = on_load;\n",
       "      element.onerror = on_error;\n",
       "      element.async = false;\n",
       "      element.src = url;\n",
       "      console.debug(\"Bokeh: injecting script tag for BokehJS library: \", url);\n",
       "      document.head.appendChild(element);\n",
       "    }\n",
       "  };var element = document.getElementById(\"1001\");\n",
       "  if (element == null) {\n",
       "    console.error(\"Bokeh: ERROR: autoload.js configured with elementid '1001' but no matching script tag was found. \")\n",
       "    return false;\n",
       "  }\n",
       "\n",
       "  function inject_raw_css(css) {\n",
       "    const element = document.createElement(\"style\");\n",
       "    element.appendChild(document.createTextNode(css));\n",
       "    document.body.appendChild(element);\n",
       "  }\n",
       "\n",
       "  \n",
       "  var js_urls = [\"https://cdn.pydata.org/bokeh/release/bokeh-1.4.0.min.js\", \"https://cdn.pydata.org/bokeh/release/bokeh-widgets-1.4.0.min.js\", \"https://cdn.pydata.org/bokeh/release/bokeh-tables-1.4.0.min.js\", \"https://cdn.pydata.org/bokeh/release/bokeh-gl-1.4.0.min.js\"];\n",
       "  var css_urls = [];\n",
       "  \n",
       "\n",
       "  var inline_js = [\n",
       "    function(Bokeh) {\n",
       "      Bokeh.set_log_level(\"info\");\n",
       "    },\n",
       "    function(Bokeh) {\n",
       "    \n",
       "    \n",
       "    }\n",
       "  ];\n",
       "\n",
       "  function run_inline_js() {\n",
       "    \n",
       "    if (root.Bokeh !== undefined || force === true) {\n",
       "      \n",
       "    for (var i = 0; i < inline_js.length; i++) {\n",
       "      inline_js[i].call(root, root.Bokeh);\n",
       "    }\n",
       "    if (force === true) {\n",
       "        display_loaded();\n",
       "      }} else if (Date.now() < root._bokeh_timeout) {\n",
       "      setTimeout(run_inline_js, 100);\n",
       "    } else if (!root._bokeh_failed_load) {\n",
       "      console.log(\"Bokeh: BokehJS failed to load within specified timeout.\");\n",
       "      root._bokeh_failed_load = true;\n",
       "    } else if (force !== true) {\n",
       "      var cell = $(document.getElementById(\"1001\")).parents('.cell').data().cell;\n",
       "      cell.output_area.append_execute_result(NB_LOAD_WARNING)\n",
       "    }\n",
       "\n",
       "  }\n",
       "\n",
       "  if (root._bokeh_is_loading === 0) {\n",
       "    console.debug(\"Bokeh: BokehJS loaded, going straight to plotting\");\n",
       "    run_inline_js();\n",
       "  } else {\n",
       "    load_libs(css_urls, js_urls, function() {\n",
       "      console.debug(\"Bokeh: BokehJS plotting callback run at\", now());\n",
       "      run_inline_js();\n",
       "    });\n",
       "  }\n",
       "}(window));"
      ],
      "application/vnd.bokehjs_load.v0+json": "\n(function(root) {\n  function now() {\n    return new Date();\n  }\n\n  var force = true;\n\n  if (typeof root._bokeh_onload_callbacks === \"undefined\" || force === true) {\n    root._bokeh_onload_callbacks = [];\n    root._bokeh_is_loading = undefined;\n  }\n\n  \n\n  \n  if (typeof (root._bokeh_timeout) === \"undefined\" || force === true) {\n    root._bokeh_timeout = Date.now() + 5000;\n    root._bokeh_failed_load = false;\n  }\n\n  var NB_LOAD_WARNING = {'data': {'text/html':\n     \"<div style='background-color: #fdd'>\\n\"+\n     \"<p>\\n\"+\n     \"BokehJS does not appear to have successfully loaded. If loading BokehJS from CDN, this \\n\"+\n     \"may be due to a slow or bad network connection. Possible fixes:\\n\"+\n     \"</p>\\n\"+\n     \"<ul>\\n\"+\n     \"<li>re-rerun `output_notebook()` to attempt to load from CDN again, or</li>\\n\"+\n     \"<li>use INLINE resources instead, as so:</li>\\n\"+\n     \"</ul>\\n\"+\n     \"<code>\\n\"+\n     \"from bokeh.resources import INLINE\\n\"+\n     \"output_notebook(resources=INLINE)\\n\"+\n     \"</code>\\n\"+\n     \"</div>\"}};\n\n  function display_loaded() {\n    var el = document.getElementById(\"1001\");\n    if (el != null) {\n      el.textContent = \"BokehJS is loading...\";\n    }\n    if (root.Bokeh !== undefined) {\n      if (el != null) {\n        el.textContent = \"BokehJS \" + root.Bokeh.version + \" successfully loaded.\";\n      }\n    } else if (Date.now() < root._bokeh_timeout) {\n      setTimeout(display_loaded, 100)\n    }\n  }\n\n\n  function run_callbacks() {\n    try {\n      root._bokeh_onload_callbacks.forEach(function(callback) {\n        if (callback != null)\n          callback();\n      });\n    } finally {\n      delete root._bokeh_onload_callbacks\n    }\n    console.debug(\"Bokeh: all callbacks have finished\");\n  }\n\n  function load_libs(css_urls, js_urls, callback) {\n    if (css_urls == null) css_urls = [];\n    if (js_urls == null) js_urls = [];\n\n    root._bokeh_onload_callbacks.push(callback);\n    if (root._bokeh_is_loading > 0) {\n      console.debug(\"Bokeh: BokehJS is being loaded, scheduling callback at\", now());\n      return null;\n    }\n    if (js_urls == null || js_urls.length === 0) {\n      run_callbacks();\n      return null;\n    }\n    console.debug(\"Bokeh: BokehJS not loaded, scheduling load and callback at\", now());\n    root._bokeh_is_loading = css_urls.length + js_urls.length;\n\n    function on_load() {\n      root._bokeh_is_loading--;\n      if (root._bokeh_is_loading === 0) {\n        console.debug(\"Bokeh: all BokehJS libraries/stylesheets loaded\");\n        run_callbacks()\n      }\n    }\n\n    function on_error() {\n      console.error(\"failed to load \" + url);\n    }\n\n    for (var i = 0; i < css_urls.length; i++) {\n      var url = css_urls[i];\n      const element = document.createElement(\"link\");\n      element.onload = on_load;\n      element.onerror = on_error;\n      element.rel = \"stylesheet\";\n      element.type = \"text/css\";\n      element.href = url;\n      console.debug(\"Bokeh: injecting link tag for BokehJS stylesheet: \", url);\n      document.body.appendChild(element);\n    }\n\n    for (var i = 0; i < js_urls.length; i++) {\n      var url = js_urls[i];\n      var element = document.createElement('script');\n      element.onload = on_load;\n      element.onerror = on_error;\n      element.async = false;\n      element.src = url;\n      console.debug(\"Bokeh: injecting script tag for BokehJS library: \", url);\n      document.head.appendChild(element);\n    }\n  };var element = document.getElementById(\"1001\");\n  if (element == null) {\n    console.error(\"Bokeh: ERROR: autoload.js configured with elementid '1001' but no matching script tag was found. \")\n    return false;\n  }\n\n  function inject_raw_css(css) {\n    const element = document.createElement(\"style\");\n    element.appendChild(document.createTextNode(css));\n    document.body.appendChild(element);\n  }\n\n  \n  var js_urls = [\"https://cdn.pydata.org/bokeh/release/bokeh-1.4.0.min.js\", \"https://cdn.pydata.org/bokeh/release/bokeh-widgets-1.4.0.min.js\", \"https://cdn.pydata.org/bokeh/release/bokeh-tables-1.4.0.min.js\", \"https://cdn.pydata.org/bokeh/release/bokeh-gl-1.4.0.min.js\"];\n  var css_urls = [];\n  \n\n  var inline_js = [\n    function(Bokeh) {\n      Bokeh.set_log_level(\"info\");\n    },\n    function(Bokeh) {\n    \n    \n    }\n  ];\n\n  function run_inline_js() {\n    \n    if (root.Bokeh !== undefined || force === true) {\n      \n    for (var i = 0; i < inline_js.length; i++) {\n      inline_js[i].call(root, root.Bokeh);\n    }\n    if (force === true) {\n        display_loaded();\n      }} else if (Date.now() < root._bokeh_timeout) {\n      setTimeout(run_inline_js, 100);\n    } else if (!root._bokeh_failed_load) {\n      console.log(\"Bokeh: BokehJS failed to load within specified timeout.\");\n      root._bokeh_failed_load = true;\n    } else if (force !== true) {\n      var cell = $(document.getElementById(\"1001\")).parents('.cell').data().cell;\n      cell.output_area.append_execute_result(NB_LOAD_WARNING)\n    }\n\n  }\n\n  if (root._bokeh_is_loading === 0) {\n    console.debug(\"Bokeh: BokehJS loaded, going straight to plotting\");\n    run_inline_js();\n  } else {\n    load_libs(css_urls, js_urls, function() {\n      console.debug(\"Bokeh: BokehJS plotting callback run at\", now());\n      run_inline_js();\n    });\n  }\n}(window));"
     },
     "metadata": {},
     "output_type": "display_data"
    }
   ],
   "source": [
    "import pandas as pd\n",
    "import numpy as np\n",
    "import os.path\n",
    "import bokeh.plotting as plt\n",
    "from bokeh.io import output_notebook\n",
    "from bokeh.models import ColumnDataSource\n",
    "\n",
    "output_notebook()"
   ]
  },
  {
   "cell_type": "markdown",
   "metadata": {},
   "source": [
    "# 3. Import of processed data"
   ]
  },
  {
   "cell_type": "markdown",
   "metadata": {},
   "source": [
    "The processed data is imported at this stage. This requires that the [processing notebook](processing.ipynb) is compiled prior to this step. Otherwise, no or an old dataset is imported."
   ]
  },
  {
   "cell_type": "code",
   "execution_count": 92,
   "metadata": {},
   "outputs": [
    {
     "data": {
      "text/html": [
       "<div>\n",
       "<style scoped>\n",
       "    .dataframe tbody tr th:only-of-type {\n",
       "        vertical-align: middle;\n",
       "    }\n",
       "\n",
       "    .dataframe tbody tr th {\n",
       "        vertical-align: top;\n",
       "    }\n",
       "\n",
       "    .dataframe thead th {\n",
       "        text-align: right;\n",
       "    }\n",
       "</style>\n",
       "<table border=\"1\" class=\"dataframe\">\n",
       "  <thead>\n",
       "    <tr style=\"text-align: right;\">\n",
       "      <th></th>\n",
       "      <th>technology</th>\n",
       "      <th>source</th>\n",
       "      <th>source_type</th>\n",
       "      <th>weblink</th>\n",
       "      <th>year</th>\n",
       "      <th>type</th>\n",
       "      <th>country</th>\n",
       "      <th>capacity_definition</th>\n",
       "      <th>capacity</th>\n",
       "      <th>comment</th>\n",
       "      <th>energy_source_level_0</th>\n",
       "      <th>energy_source_level_1</th>\n",
       "      <th>energy_source_level_2</th>\n",
       "      <th>energy_source_level_3</th>\n",
       "      <th>technology_level</th>\n",
       "    </tr>\n",
       "    <tr>\n",
       "      <th>ID</th>\n",
       "      <th></th>\n",
       "      <th></th>\n",
       "      <th></th>\n",
       "      <th></th>\n",
       "      <th></th>\n",
       "      <th></th>\n",
       "      <th></th>\n",
       "      <th></th>\n",
       "      <th></th>\n",
       "      <th></th>\n",
       "      <th></th>\n",
       "      <th></th>\n",
       "      <th></th>\n",
       "      <th></th>\n",
       "      <th></th>\n",
       "    </tr>\n",
       "  </thead>\n",
       "  <tbody>\n",
       "    <tr>\n",
       "      <th>0</th>\n",
       "      <td>Fossil fuels</td>\n",
       "      <td>e-control</td>\n",
       "      <td>Regulatory Authority</td>\n",
       "      <td>https://www.e-control.at/documents/1785851/181...</td>\n",
       "      <td>2014</td>\n",
       "      <td>Installed capacity in MW</td>\n",
       "      <td>AT</td>\n",
       "      <td>Gross capacity</td>\n",
       "      <td>7243.634</td>\n",
       "      <td>NaN</td>\n",
       "      <td>False</td>\n",
       "      <td>True</td>\n",
       "      <td>False</td>\n",
       "      <td>False</td>\n",
       "      <td>False</td>\n",
       "    </tr>\n",
       "    <tr>\n",
       "      <th>1</th>\n",
       "      <td>Fossil fuels</td>\n",
       "      <td>e-control</td>\n",
       "      <td>Regulatory Authority</td>\n",
       "      <td>https://www.e-control.at/documents/1785851/181...</td>\n",
       "      <td>2015</td>\n",
       "      <td>Installed capacity in MW</td>\n",
       "      <td>AT</td>\n",
       "      <td>Gross capacity</td>\n",
       "      <td>7059.065</td>\n",
       "      <td>NaN</td>\n",
       "      <td>False</td>\n",
       "      <td>True</td>\n",
       "      <td>False</td>\n",
       "      <td>False</td>\n",
       "      <td>False</td>\n",
       "    </tr>\n",
       "    <tr>\n",
       "      <th>2</th>\n",
       "      <td>Fossil fuels</td>\n",
       "      <td>e-control</td>\n",
       "      <td>Regulatory Authority</td>\n",
       "      <td>https://www.e-control.at/documents/1785851/181...</td>\n",
       "      <td>2016</td>\n",
       "      <td>Installed capacity in MW</td>\n",
       "      <td>AT</td>\n",
       "      <td>Gross capacity</td>\n",
       "      <td>7323.000</td>\n",
       "      <td>NaN</td>\n",
       "      <td>False</td>\n",
       "      <td>True</td>\n",
       "      <td>False</td>\n",
       "      <td>False</td>\n",
       "      <td>False</td>\n",
       "    </tr>\n",
       "    <tr>\n",
       "      <th>3</th>\n",
       "      <td>Fossil fuels</td>\n",
       "      <td>e-control</td>\n",
       "      <td>Regulatory Authority</td>\n",
       "      <td>https://www.e-control.at/documents/1785851/181...</td>\n",
       "      <td>2017</td>\n",
       "      <td>Installed capacity in MW</td>\n",
       "      <td>AT</td>\n",
       "      <td>Gross capacity</td>\n",
       "      <td>6469.000</td>\n",
       "      <td>NaN</td>\n",
       "      <td>False</td>\n",
       "      <td>True</td>\n",
       "      <td>False</td>\n",
       "      <td>False</td>\n",
       "      <td>False</td>\n",
       "    </tr>\n",
       "    <tr>\n",
       "      <th>4</th>\n",
       "      <td>Fossil fuels</td>\n",
       "      <td>e-control</td>\n",
       "      <td>Regulatory Authority</td>\n",
       "      <td>https://www.e-control.at/documents/1785851/181...</td>\n",
       "      <td>2018</td>\n",
       "      <td>Installed capacity in MW</td>\n",
       "      <td>AT</td>\n",
       "      <td>Gross capacity</td>\n",
       "      <td>6492.000</td>\n",
       "      <td>NaN</td>\n",
       "      <td>False</td>\n",
       "      <td>True</td>\n",
       "      <td>False</td>\n",
       "      <td>False</td>\n",
       "      <td>False</td>\n",
       "    </tr>\n",
       "  </tbody>\n",
       "</table>\n",
       "</div>"
      ],
      "text/plain": [
       "      technology     source           source_type  \\\n",
       "ID                                                  \n",
       "0   Fossil fuels  e-control  Regulatory Authority   \n",
       "1   Fossil fuels  e-control  Regulatory Authority   \n",
       "2   Fossil fuels  e-control  Regulatory Authority   \n",
       "3   Fossil fuels  e-control  Regulatory Authority   \n",
       "4   Fossil fuels  e-control  Regulatory Authority   \n",
       "\n",
       "                                              weblink  year  \\\n",
       "ID                                                            \n",
       "0   https://www.e-control.at/documents/1785851/181...  2014   \n",
       "1   https://www.e-control.at/documents/1785851/181...  2015   \n",
       "2   https://www.e-control.at/documents/1785851/181...  2016   \n",
       "3   https://www.e-control.at/documents/1785851/181...  2017   \n",
       "4   https://www.e-control.at/documents/1785851/181...  2018   \n",
       "\n",
       "                        type country capacity_definition  capacity comment  \\\n",
       "ID                                                                           \n",
       "0   Installed capacity in MW      AT      Gross capacity  7243.634     NaN   \n",
       "1   Installed capacity in MW      AT      Gross capacity  7059.065     NaN   \n",
       "2   Installed capacity in MW      AT      Gross capacity  7323.000     NaN   \n",
       "3   Installed capacity in MW      AT      Gross capacity  6469.000     NaN   \n",
       "4   Installed capacity in MW      AT      Gross capacity  6492.000     NaN   \n",
       "\n",
       "   energy_source_level_0 energy_source_level_1 energy_source_level_2  \\\n",
       "ID                                                                     \n",
       "0                  False                  True                 False   \n",
       "1                  False                  True                 False   \n",
       "2                  False                  True                 False   \n",
       "3                  False                  True                 False   \n",
       "4                  False                  True                 False   \n",
       "\n",
       "   energy_source_level_3 technology_level  \n",
       "ID                                         \n",
       "0                  False            False  \n",
       "1                  False            False  \n",
       "2                  False            False  \n",
       "3                  False            False  \n",
       "4                  False            False  "
      ]
     },
     "execution_count": 92,
     "metadata": {},
     "output_type": "execute_result"
    }
   ],
   "source": [
    "data_file = 'national_generation_capacity_stacked.csv'\n",
    "filepath = os.path.join('output', data_file)\n",
    "data = pd.read_csv(filepath, index_col=0)\n",
    "\n",
    "data.head()"
   ]
  },
  {
   "cell_type": "markdown",
   "metadata": {},
   "source": [
    "# 4. Visualisation of results for different energy source levels"
   ]
  },
  {
   "cell_type": "markdown",
   "metadata": {},
   "source": [
    "In the following, national generation capacity is compared for the different energy source levels. Due to the size of the dataset regarding countries and compiled datasources, the following tables and figures tend to be rather confusing. Therefore, we provide the following option to limit the visualisation of the results to a selection of countries and years. If the corresponding subset is empty, all values will be considered. "
   ]
  },
  {
   "cell_type": "code",
   "execution_count": null,
   "metadata": {},
   "outputs": [],
   "source": [
    "country_subset = ['DE', 'FR', 'BE', 'NL', 'IT']\n",
    "year_subset = [2013, 2014, 2015, 2016]"
   ]
  },
  {
   "cell_type": "code",
   "execution_count": null,
   "metadata": {},
   "outputs": [],
   "source": [
    "data_selection = pd.DataFrame()\n",
    "\n",
    "if len(country_subset) == 0:\n",
    "    data_selection = data\n",
    "else:\n",
    "    for country in country_subset:\n",
    "        for year in year_subset:\n",
    "            if len(data_selection) == 0:\n",
    "                data_selection = data[(data.country == country) &\n",
    "                                      (data.year == year)]\n",
    "            else:\n",
    "                data_selection = data_selection.append(data[(data.country == country) &\n",
    "                                                            (data.year == year)])\n",
    "\n",
    "data_selection"
   ]
  },
  {
   "cell_type": "markdown",
   "metadata": {},
   "source": [
    "To improve the data visualisation in Bokeh the colors of the defined technologies is specified explicitly. The user is free to adjust or refine the color definition using the following parameter. The color names are defined [here](http://www.w3schools.com/colors/colors_names.asp)."
   ]
  },
  {
   "cell_type": "code",
   "execution_count": null,
   "metadata": {},
   "outputs": [],
   "source": [
    "colormap = {\n",
    "    'Fossil fuels': 'Black',\n",
    "    'Lignite': 'SaddleBrown',\n",
    "    'Hard coal': 'Black',\n",
    "    'Oil': 'Violet',\n",
    "    'Natural gas': 'IndianRed',\n",
    "    'Combined cycle': '#d57676',\n",
    "    'Gas turbine': '#e19d9d',\n",
    "    'Other and unknown natural gas': '#c33c3c',\n",
    "    'Differently categorized natural gas': 'IndianRed',\n",
    "    'Non-renewable waste': 'SandyBrown',\n",
    "    'Mixed fossil fuels': 'LightGray',\n",
    "    'Other fossil fuels': 'DarkGray',\n",
    "    'Differently categorized fossil fuels': 'Gray',\n",
    "    'Nuclear': 'Red',\n",
    "    'Renewable energy sources': 'Green',\n",
    "    'Hydro': 'Navy',\n",
    "    'Run-of-river': '#0000b3',\n",
    "    'Reservoir': '#0000e6',\n",
    "    'Reservoir including pumped storage': '#0000e6',\n",
    "    'Pumped storage': '#1a1aff',\n",
    "    'Pumped storage with natural inflow': '#1a1aff',\n",
    "    'Differently categorized hydro': 'Navy',\n",
    "    'Wind': 'SkyBlue',\n",
    "    'Onshore': 'LightSkyBlue',\n",
    "    'Offshore': 'DeepSkyBlue',\n",
    "    'Differently categorized wind': 'SkyBlue',\n",
    "    'Solar': 'Yellow',\n",
    "    'Photovoltaics': '#ffff33',\n",
    "    'Concentrated solar power': '#ffff66',\n",
    "    'Differently categorized solar': 'Yellow',\n",
    "    'Geothermal': 'DarkRed',\n",
    "    'Marine': 'Blue',\n",
    "    'Bioenergy and renewable waste': 'Green',\n",
    "    'Biomass and biogas': '#00b300',\n",
    "    'Sewage and landfill gas': '#00e600',\n",
    "    'Other bioenergy and renewable waste': 'Green',\n",
    "    'Differently categorized renewable energy sources': 'Green',\n",
    "    'Other or unspecified energy sources': 'Orange',\n",
    "}"
   ]
  },
  {
   "cell_type": "markdown",
   "metadata": {},
   "source": [
    "# New stuff"
   ]
  },
  {
   "cell_type": "code",
   "execution_count": 174,
   "metadata": {},
   "outputs": [],
   "source": [
    "input_co = 'DE'\n",
    "input_year = [2015,2016,2017]"
   ]
  },
  {
   "cell_type": "code",
   "execution_count": 175,
   "metadata": {},
   "outputs": [],
   "source": [
    "co_subset = data['country'] == input_co\n",
    "y_subset = data['year'].isin(input_year)\n",
    "energy_source_level = data['energy_source_level_3'] == True\n",
    "ret_data = data.loc[co_subset & y_subset & energy_source_level]"
   ]
  },
  {
   "cell_type": "code",
   "execution_count": 176,
   "metadata": {},
   "outputs": [],
   "source": [
    "sources = list(ret_data.source.unique())\n",
    "technologies = list(ret_data.technology.unique())\n",
    "years = list(ret_data.year.unique().astype(str))"
   ]
  },
  {
   "cell_type": "code",
   "execution_count": 177,
   "metadata": {},
   "outputs": [
    {
     "data": {
      "text/html": [
       "<div>\n",
       "<style scoped>\n",
       "    .dataframe tbody tr th:only-of-type {\n",
       "        vertical-align: middle;\n",
       "    }\n",
       "\n",
       "    .dataframe tbody tr th {\n",
       "        vertical-align: top;\n",
       "    }\n",
       "\n",
       "    .dataframe thead th {\n",
       "        text-align: right;\n",
       "    }\n",
       "</style>\n",
       "<table border=\"1\" class=\"dataframe\">\n",
       "  <thead>\n",
       "    <tr style=\"text-align: right;\">\n",
       "      <th></th>\n",
       "      <th>technology</th>\n",
       "      <th>Biomass and biogas</th>\n",
       "      <th>Differently categorized fossil fuels</th>\n",
       "      <th>Differently categorized renewable energy sources</th>\n",
       "      <th>Geothermal</th>\n",
       "      <th>Hard coal</th>\n",
       "      <th>Hydro</th>\n",
       "      <th>Lignite</th>\n",
       "      <th>Marine</th>\n",
       "      <th>Mixed fossil fuels</th>\n",
       "      <th>Natural gas</th>\n",
       "      <th>Non-renewable waste</th>\n",
       "      <th>Nuclear</th>\n",
       "      <th>Oil</th>\n",
       "      <th>Other bioenergy and renewable waste</th>\n",
       "      <th>Other fossil fuels</th>\n",
       "      <th>Other or unspecified energy sources</th>\n",
       "      <th>Solar</th>\n",
       "      <th>Wind</th>\n",
       "    </tr>\n",
       "    <tr>\n",
       "      <th>year</th>\n",
       "      <th>source</th>\n",
       "      <th></th>\n",
       "      <th></th>\n",
       "      <th></th>\n",
       "      <th></th>\n",
       "      <th></th>\n",
       "      <th></th>\n",
       "      <th></th>\n",
       "      <th></th>\n",
       "      <th></th>\n",
       "      <th></th>\n",
       "      <th></th>\n",
       "      <th></th>\n",
       "      <th></th>\n",
       "      <th></th>\n",
       "      <th></th>\n",
       "      <th></th>\n",
       "      <th></th>\n",
       "      <th></th>\n",
       "    </tr>\n",
       "  </thead>\n",
       "  <tbody>\n",
       "    <tr>\n",
       "      <th rowspan=\"5\" valign=\"top\">2015</th>\n",
       "      <th>ENTSO-E Data Portal</th>\n",
       "      <td>6915.00</td>\n",
       "      <td>78746.0</td>\n",
       "      <td>559.00</td>\n",
       "      <td>NaN</td>\n",
       "      <td>NaN</td>\n",
       "      <td>9610.00</td>\n",
       "      <td>NaN</td>\n",
       "      <td>NaN</td>\n",
       "      <td>NaN</td>\n",
       "      <td>NaN</td>\n",
       "      <td>NaN</td>\n",
       "      <td>10793.0</td>\n",
       "      <td>NaN</td>\n",
       "      <td>NaN</td>\n",
       "      <td>NaN</td>\n",
       "      <td>0.0</td>\n",
       "      <td>38411.000000</td>\n",
       "      <td>43429.000000</td>\n",
       "    </tr>\n",
       "    <tr>\n",
       "      <th>ENTSO-E Power Statistics</th>\n",
       "      <td>6804.36</td>\n",
       "      <td>0.0</td>\n",
       "      <td>511.69</td>\n",
       "      <td>33.44</td>\n",
       "      <td>26479.6</td>\n",
       "      <td>10365.75</td>\n",
       "      <td>20929.0</td>\n",
       "      <td>0.0</td>\n",
       "      <td>3149.5</td>\n",
       "      <td>28325.8</td>\n",
       "      <td>810.75</td>\n",
       "      <td>10793.0</td>\n",
       "      <td>2140.3</td>\n",
       "      <td>810.75</td>\n",
       "      <td>0.0</td>\n",
       "      <td>0.0</td>\n",
       "      <td>38523.460000</td>\n",
       "      <td>44315.930000</td>\n",
       "    </tr>\n",
       "    <tr>\n",
       "      <th>ENTSO-E SOAF</th>\n",
       "      <td>6532.00</td>\n",
       "      <td>0.0</td>\n",
       "      <td>590.00</td>\n",
       "      <td>NaN</td>\n",
       "      <td>27000.0</td>\n",
       "      <td>10230.00</td>\n",
       "      <td>20800.0</td>\n",
       "      <td>NaN</td>\n",
       "      <td>0.0</td>\n",
       "      <td>26700.0</td>\n",
       "      <td>NaN</td>\n",
       "      <td>10800.0</td>\n",
       "      <td>3900.0</td>\n",
       "      <td>NaN</td>\n",
       "      <td>NaN</td>\n",
       "      <td>4700.0</td>\n",
       "      <td>39321.833333</td>\n",
       "      <td>44458.583333</td>\n",
       "    </tr>\n",
       "    <tr>\n",
       "      <th>ENTSO-E Transparency Platform</th>\n",
       "      <td>6787.00</td>\n",
       "      <td>0.0</td>\n",
       "      <td>514.00</td>\n",
       "      <td>33.00</td>\n",
       "      <td>26190.0</td>\n",
       "      <td>14149.15</td>\n",
       "      <td>21160.0</td>\n",
       "      <td>0.0</td>\n",
       "      <td>0.0</td>\n",
       "      <td>31496.0</td>\n",
       "      <td>0.00</td>\n",
       "      <td>12068.0</td>\n",
       "      <td>4511.0</td>\n",
       "      <td>1685.00</td>\n",
       "      <td>0.0</td>\n",
       "      <td>1040.0</td>\n",
       "      <td>37446.000000</td>\n",
       "      <td>38750.000000</td>\n",
       "    </tr>\n",
       "    <tr>\n",
       "      <th>EUROSTAT</th>\n",
       "      <td>5875.00</td>\n",
       "      <td>86623.0</td>\n",
       "      <td>NaN</td>\n",
       "      <td>26.00</td>\n",
       "      <td>NaN</td>\n",
       "      <td>11399.00</td>\n",
       "      <td>NaN</td>\n",
       "      <td>0.0</td>\n",
       "      <td>NaN</td>\n",
       "      <td>NaN</td>\n",
       "      <td>2877.00</td>\n",
       "      <td>10799.0</td>\n",
       "      <td>NaN</td>\n",
       "      <td>1592.00</td>\n",
       "      <td>NaN</td>\n",
       "      <td>NaN</td>\n",
       "      <td>39245.000000</td>\n",
       "      <td>44580.000000</td>\n",
       "    </tr>\n",
       "  </tbody>\n",
       "</table>\n",
       "</div>"
      ],
      "text/plain": [
       "technology                          Biomass and biogas  \\\n",
       "year source                                              \n",
       "2015 ENTSO-E Data Portal                       6915.00   \n",
       "     ENTSO-E Power Statistics                  6804.36   \n",
       "     ENTSO-E SOAF                              6532.00   \n",
       "     ENTSO-E Transparency Platform             6787.00   \n",
       "     EUROSTAT                                  5875.00   \n",
       "\n",
       "technology                          Differently categorized fossil fuels  \\\n",
       "year source                                                                \n",
       "2015 ENTSO-E Data Portal                                         78746.0   \n",
       "     ENTSO-E Power Statistics                                        0.0   \n",
       "     ENTSO-E SOAF                                                    0.0   \n",
       "     ENTSO-E Transparency Platform                                   0.0   \n",
       "     EUROSTAT                                                    86623.0   \n",
       "\n",
       "technology                          Differently categorized renewable energy sources  \\\n",
       "year source                                                                            \n",
       "2015 ENTSO-E Data Portal                                                      559.00   \n",
       "     ENTSO-E Power Statistics                                                 511.69   \n",
       "     ENTSO-E SOAF                                                             590.00   \n",
       "     ENTSO-E Transparency Platform                                            514.00   \n",
       "     EUROSTAT                                                                    NaN   \n",
       "\n",
       "technology                          Geothermal  Hard coal     Hydro  Lignite  \\\n",
       "year source                                                                    \n",
       "2015 ENTSO-E Data Portal                   NaN        NaN   9610.00      NaN   \n",
       "     ENTSO-E Power Statistics            33.44    26479.6  10365.75  20929.0   \n",
       "     ENTSO-E SOAF                          NaN    27000.0  10230.00  20800.0   \n",
       "     ENTSO-E Transparency Platform       33.00    26190.0  14149.15  21160.0   \n",
       "     EUROSTAT                            26.00        NaN  11399.00      NaN   \n",
       "\n",
       "technology                          Marine  Mixed fossil fuels  Natural gas  \\\n",
       "year source                                                                   \n",
       "2015 ENTSO-E Data Portal               NaN                 NaN          NaN   \n",
       "     ENTSO-E Power Statistics          0.0              3149.5      28325.8   \n",
       "     ENTSO-E SOAF                      NaN                 0.0      26700.0   \n",
       "     ENTSO-E Transparency Platform     0.0                 0.0      31496.0   \n",
       "     EUROSTAT                          0.0                 NaN          NaN   \n",
       "\n",
       "technology                          Non-renewable waste  Nuclear     Oil  \\\n",
       "year source                                                                \n",
       "2015 ENTSO-E Data Portal                            NaN  10793.0     NaN   \n",
       "     ENTSO-E Power Statistics                    810.75  10793.0  2140.3   \n",
       "     ENTSO-E SOAF                                   NaN  10800.0  3900.0   \n",
       "     ENTSO-E Transparency Platform                 0.00  12068.0  4511.0   \n",
       "     EUROSTAT                                   2877.00  10799.0     NaN   \n",
       "\n",
       "technology                          Other bioenergy and renewable waste  \\\n",
       "year source                                                               \n",
       "2015 ENTSO-E Data Portal                                            NaN   \n",
       "     ENTSO-E Power Statistics                                    810.75   \n",
       "     ENTSO-E SOAF                                                   NaN   \n",
       "     ENTSO-E Transparency Platform                              1685.00   \n",
       "     EUROSTAT                                                   1592.00   \n",
       "\n",
       "technology                          Other fossil fuels  \\\n",
       "year source                                              \n",
       "2015 ENTSO-E Data Portal                           NaN   \n",
       "     ENTSO-E Power Statistics                      0.0   \n",
       "     ENTSO-E SOAF                                  NaN   \n",
       "     ENTSO-E Transparency Platform                 0.0   \n",
       "     EUROSTAT                                      NaN   \n",
       "\n",
       "technology                          Other or unspecified energy sources  \\\n",
       "year source                                                               \n",
       "2015 ENTSO-E Data Portal                                            0.0   \n",
       "     ENTSO-E Power Statistics                                       0.0   \n",
       "     ENTSO-E SOAF                                                4700.0   \n",
       "     ENTSO-E Transparency Platform                               1040.0   \n",
       "     EUROSTAT                                                       NaN   \n",
       "\n",
       "technology                                 Solar          Wind  \n",
       "year source                                                     \n",
       "2015 ENTSO-E Data Portal            38411.000000  43429.000000  \n",
       "     ENTSO-E Power Statistics       38523.460000  44315.930000  \n",
       "     ENTSO-E SOAF                   39321.833333  44458.583333  \n",
       "     ENTSO-E Transparency Platform  37446.000000  38750.000000  \n",
       "     EUROSTAT                       39245.000000  44580.000000  "
      ]
     },
     "execution_count": 177,
     "metadata": {},
     "output_type": "execute_result"
    }
   ],
   "source": [
    "source_data = pd.pivot_table(ret_data, \n",
    "                          index=('year','source'),\n",
    "                          columns='technology',\n",
    "                          values='capacity',\n",
    "                          aggfunc=sum,\n",
    "                          margins=False)\n",
    "\n",
    "source_data.head()"
   ]
  },
  {
   "cell_type": "code",
   "execution_count": 179,
   "metadata": {},
   "outputs": [],
   "source": [
    "x_axis = list(source_data.index)\n",
    "source_data.reset_index(inplace=True)\n",
    "source_data[\"year\"] = source_data[\"year\"].astype(str)\n",
    "source = ColumnDataSource(source_data)"
   ]
  },
  {
   "cell_type": "code",
   "execution_count": 181,
   "metadata": {},
   "outputs": [
    {
     "data": {
      "text/plain": [
       "[(2015, 'ENTSO-E Data Portal'),\n",
       " (2015, 'ENTSO-E Power Statistics'),\n",
       " (2015, 'ENTSO-E SOAF'),\n",
       " (2015, 'ENTSO-E Transparency Platform'),\n",
       " (2015, 'EUROSTAT'),\n",
       " (2016, 'ENTSO-E Power Statistics'),\n",
       " (2016, 'ENTSO-E Transparency Platform'),\n",
       " (2016, 'EUROSTAT'),\n",
       " (2017, 'ENTSO-E Power Statistics'),\n",
       " (2017, 'ENTSO-E Transparency Platform')]"
      ]
     },
     "execution_count": 181,
     "metadata": {},
     "output_type": "execute_result"
    }
   ],
   "source": [
    "x_axis"
   ]
  },
  {
   "cell_type": "code",
   "execution_count": 182,
   "metadata": {},
   "outputs": [
    {
     "ename": "ValueError",
     "evalue": "expected an element of either Seq(String), Seq(Tuple(String, String)) or Seq(Tuple(String, String, String)), got [(2015, 'ENTSO-E Data Portal'), (2015, 'ENTSO-E Power Statistics'), (2015, 'ENTSO-E SOAF'), (2015, 'ENTSO-E Transparency Platform'), (2015, 'EUROSTAT'), (2016, 'ENTSO-E Power Statistics'), (2016, 'ENTSO-E Transparency Platform'), (2016, 'EUROSTAT'), (2017, 'ENTSO-E Power Statistics'), (2017, 'ENTSO-E Transparency Platform')]",
     "output_type": "error",
     "traceback": [
      "\u001b[1;31m---------------------------------------------------------------------------\u001b[0m",
      "\u001b[1;31mValueError\u001b[0m                                Traceback (most recent call last)",
      "\u001b[1;32m<ipython-input-182-6e6656b0ac21>\u001b[0m in \u001b[0;36m<module>\u001b[1;34m\u001b[0m\n\u001b[1;32m----> 1\u001b[1;33m \u001b[0mp\u001b[0m \u001b[1;33m=\u001b[0m \u001b[0mplt\u001b[0m\u001b[1;33m.\u001b[0m\u001b[0mfigure\u001b[0m\u001b[1;33m(\u001b[0m\u001b[0mx_range\u001b[0m\u001b[1;33m=\u001b[0m\u001b[0mFactorRange\u001b[0m\u001b[1;33m(\u001b[0m\u001b[1;33m*\u001b[0m\u001b[0mx_axis\u001b[0m\u001b[1;33m)\u001b[0m\u001b[1;33m,\u001b[0m \u001b[0mtitle\u001b[0m\u001b[1;33m=\u001b[0m\u001b[0minput_co\u001b[0m\u001b[1;33m,\u001b[0m \u001b[0mtools\u001b[0m\u001b[1;33m=\u001b[0m\u001b[1;34m\"\"\u001b[0m\u001b[1;33m)\u001b[0m\u001b[1;33m\u001b[0m\u001b[1;33m\u001b[0m\u001b[0m\n\u001b[0m\u001b[0;32m      2\u001b[0m \u001b[1;33m\u001b[0m\u001b[0m\n\u001b[0;32m      3\u001b[0m \u001b[0mp\u001b[0m\u001b[1;33m.\u001b[0m\u001b[0mvbar_stack\u001b[0m\u001b[1;33m(\u001b[0m\u001b[0mtechnologies\u001b[0m\u001b[1;33m,\u001b[0m \u001b[0mx\u001b[0m\u001b[1;33m=\u001b[0m\u001b[1;34m'x'\u001b[0m\u001b[1;33m,\u001b[0m \u001b[0mwidth\u001b[0m\u001b[1;33m=\u001b[0m\u001b[1;36m0.9\u001b[0m\u001b[1;33m,\u001b[0m \u001b[0msource\u001b[0m\u001b[1;33m=\u001b[0m\u001b[0msource\u001b[0m\u001b[1;33m,\u001b[0m \u001b[0mlegend_label\u001b[0m\u001b[1;33m=\u001b[0m\u001b[0mtechnologies\u001b[0m\u001b[1;33m)\u001b[0m\u001b[1;33m\u001b[0m\u001b[1;33m\u001b[0m\u001b[0m\n\u001b[0;32m      4\u001b[0m \u001b[1;33m\u001b[0m\u001b[0m\n\u001b[0;32m      5\u001b[0m \u001b[0mplt\u001b[0m\u001b[1;33m.\u001b[0m\u001b[0mshow\u001b[0m\u001b[1;33m(\u001b[0m\u001b[0mp\u001b[0m\u001b[1;33m)\u001b[0m\u001b[1;33m\u001b[0m\u001b[1;33m\u001b[0m\u001b[0m\n",
      "\u001b[1;32mC:\\ProgramData\\Anaconda3\\lib\\site-packages\\bokeh\\models\\ranges.py\u001b[0m in \u001b[0;36m__init__\u001b[1;34m(self, *args, **kwargs)\u001b[0m\n\u001b[0;32m    450\u001b[0m         \u001b[1;32melif\u001b[0m \u001b[0margs\u001b[0m\u001b[1;33m:\u001b[0m\u001b[1;33m\u001b[0m\u001b[1;33m\u001b[0m\u001b[0m\n\u001b[0;32m    451\u001b[0m             \u001b[0mkwargs\u001b[0m\u001b[1;33m[\u001b[0m\u001b[1;34m'factors'\u001b[0m\u001b[1;33m]\u001b[0m \u001b[1;33m=\u001b[0m \u001b[0mlist\u001b[0m\u001b[1;33m(\u001b[0m\u001b[0margs\u001b[0m\u001b[1;33m)\u001b[0m\u001b[1;33m\u001b[0m\u001b[1;33m\u001b[0m\u001b[0m\n\u001b[1;32m--> 452\u001b[1;33m         \u001b[0msuper\u001b[0m\u001b[1;33m(\u001b[0m\u001b[0mFactorRange\u001b[0m\u001b[1;33m,\u001b[0m \u001b[0mself\u001b[0m\u001b[1;33m)\u001b[0m\u001b[1;33m.\u001b[0m\u001b[0m__init__\u001b[0m\u001b[1;33m(\u001b[0m\u001b[1;33m**\u001b[0m\u001b[0mkwargs\u001b[0m\u001b[1;33m)\u001b[0m\u001b[1;33m\u001b[0m\u001b[1;33m\u001b[0m\u001b[0m\n\u001b[0m\u001b[0;32m    453\u001b[0m \u001b[1;33m\u001b[0m\u001b[0m\n\u001b[0;32m    454\u001b[0m     \u001b[1;33m@\u001b[0m\u001b[0merror\u001b[0m\u001b[1;33m(\u001b[0m\u001b[0mDUPLICATE_FACTORS\u001b[0m\u001b[1;33m)\u001b[0m\u001b[1;33m\u001b[0m\u001b[1;33m\u001b[0m\u001b[0m\n",
      "\u001b[1;32mC:\\ProgramData\\Anaconda3\\lib\\site-packages\\bokeh\\model.py\u001b[0m in \u001b[0;36m__init__\u001b[1;34m(self, **kwargs)\u001b[0m\n\u001b[0;32m    316\u001b[0m         \u001b[0mkwargs\u001b[0m\u001b[1;33m.\u001b[0m\u001b[0mpop\u001b[0m\u001b[1;33m(\u001b[0m\u001b[1;34m\"id\"\u001b[0m\u001b[1;33m,\u001b[0m \u001b[1;32mNone\u001b[0m\u001b[1;33m)\u001b[0m\u001b[1;33m\u001b[0m\u001b[1;33m\u001b[0m\u001b[0m\n\u001b[0;32m    317\u001b[0m \u001b[1;33m\u001b[0m\u001b[0m\n\u001b[1;32m--> 318\u001b[1;33m         \u001b[0msuper\u001b[0m\u001b[1;33m(\u001b[0m\u001b[0mModel\u001b[0m\u001b[1;33m,\u001b[0m \u001b[0mself\u001b[0m\u001b[1;33m)\u001b[0m\u001b[1;33m.\u001b[0m\u001b[0m__init__\u001b[0m\u001b[1;33m(\u001b[0m\u001b[1;33m**\u001b[0m\u001b[0mkwargs\u001b[0m\u001b[1;33m)\u001b[0m\u001b[1;33m\u001b[0m\u001b[1;33m\u001b[0m\u001b[0m\n\u001b[0m\u001b[0;32m    319\u001b[0m         \u001b[0mdefault_theme\u001b[0m\u001b[1;33m.\u001b[0m\u001b[0mapply_to_model\u001b[0m\u001b[1;33m(\u001b[0m\u001b[0mself\u001b[0m\u001b[1;33m)\u001b[0m\u001b[1;33m\u001b[0m\u001b[1;33m\u001b[0m\u001b[0m\n\u001b[0;32m    320\u001b[0m \u001b[1;33m\u001b[0m\u001b[0m\n",
      "\u001b[1;32mC:\\ProgramData\\Anaconda3\\lib\\site-packages\\bokeh\\core\\has_props.py\u001b[0m in \u001b[0;36m__init__\u001b[1;34m(self, **properties)\u001b[0m\n\u001b[0;32m    251\u001b[0m \u001b[1;33m\u001b[0m\u001b[0m\n\u001b[0;32m    252\u001b[0m         \u001b[1;32mfor\u001b[0m \u001b[0mname\u001b[0m\u001b[1;33m,\u001b[0m \u001b[0mvalue\u001b[0m \u001b[1;32min\u001b[0m \u001b[0mproperties\u001b[0m\u001b[1;33m.\u001b[0m\u001b[0mitems\u001b[0m\u001b[1;33m(\u001b[0m\u001b[1;33m)\u001b[0m\u001b[1;33m:\u001b[0m\u001b[1;33m\u001b[0m\u001b[1;33m\u001b[0m\u001b[0m\n\u001b[1;32m--> 253\u001b[1;33m             \u001b[0msetattr\u001b[0m\u001b[1;33m(\u001b[0m\u001b[0mself\u001b[0m\u001b[1;33m,\u001b[0m \u001b[0mname\u001b[0m\u001b[1;33m,\u001b[0m \u001b[0mvalue\u001b[0m\u001b[1;33m)\u001b[0m\u001b[1;33m\u001b[0m\u001b[1;33m\u001b[0m\u001b[0m\n\u001b[0m\u001b[0;32m    254\u001b[0m \u001b[1;33m\u001b[0m\u001b[0m\n\u001b[0;32m    255\u001b[0m     \u001b[1;32mdef\u001b[0m \u001b[0m__setattr__\u001b[0m\u001b[1;33m(\u001b[0m\u001b[0mself\u001b[0m\u001b[1;33m,\u001b[0m \u001b[0mname\u001b[0m\u001b[1;33m,\u001b[0m \u001b[0mvalue\u001b[0m\u001b[1;33m)\u001b[0m\u001b[1;33m:\u001b[0m\u001b[1;33m\u001b[0m\u001b[1;33m\u001b[0m\u001b[0m\n",
      "\u001b[1;32mC:\\ProgramData\\Anaconda3\\lib\\site-packages\\bokeh\\core\\has_props.py\u001b[0m in \u001b[0;36m__setattr__\u001b[1;34m(self, name, value)\u001b[0m\n\u001b[0;32m    278\u001b[0m \u001b[1;33m\u001b[0m\u001b[0m\n\u001b[0;32m    279\u001b[0m         \u001b[1;32mif\u001b[0m \u001b[0mname\u001b[0m \u001b[1;32min\u001b[0m \u001b[0mprops\u001b[0m \u001b[1;32mor\u001b[0m \u001b[1;33m(\u001b[0m\u001b[0mdescriptor\u001b[0m \u001b[1;32mis\u001b[0m \u001b[1;32mnot\u001b[0m \u001b[1;32mNone\u001b[0m \u001b[1;32mand\u001b[0m \u001b[0mdescriptor\u001b[0m\u001b[1;33m.\u001b[0m\u001b[0mfset\u001b[0m \u001b[1;32mis\u001b[0m \u001b[1;32mnot\u001b[0m \u001b[1;32mNone\u001b[0m\u001b[1;33m)\u001b[0m\u001b[1;33m:\u001b[0m\u001b[1;33m\u001b[0m\u001b[1;33m\u001b[0m\u001b[0m\n\u001b[1;32m--> 280\u001b[1;33m             \u001b[0msuper\u001b[0m\u001b[1;33m(\u001b[0m\u001b[0mHasProps\u001b[0m\u001b[1;33m,\u001b[0m \u001b[0mself\u001b[0m\u001b[1;33m)\u001b[0m\u001b[1;33m.\u001b[0m\u001b[0m__setattr__\u001b[0m\u001b[1;33m(\u001b[0m\u001b[0mname\u001b[0m\u001b[1;33m,\u001b[0m \u001b[0mvalue\u001b[0m\u001b[1;33m)\u001b[0m\u001b[1;33m\u001b[0m\u001b[1;33m\u001b[0m\u001b[0m\n\u001b[0m\u001b[0;32m    281\u001b[0m         \u001b[1;32melse\u001b[0m\u001b[1;33m:\u001b[0m\u001b[1;33m\u001b[0m\u001b[1;33m\u001b[0m\u001b[0m\n\u001b[0;32m    282\u001b[0m             \u001b[0mmatches\u001b[0m\u001b[1;33m,\u001b[0m \u001b[0mtext\u001b[0m \u001b[1;33m=\u001b[0m \u001b[0mdifflib\u001b[0m\u001b[1;33m.\u001b[0m\u001b[0mget_close_matches\u001b[0m\u001b[1;33m(\u001b[0m\u001b[0mname\u001b[0m\u001b[1;33m.\u001b[0m\u001b[0mlower\u001b[0m\u001b[1;33m(\u001b[0m\u001b[1;33m)\u001b[0m\u001b[1;33m,\u001b[0m \u001b[0mprops\u001b[0m\u001b[1;33m)\u001b[0m\u001b[1;33m,\u001b[0m \u001b[1;34m\"similar\"\u001b[0m\u001b[1;33m\u001b[0m\u001b[1;33m\u001b[0m\u001b[0m\n",
      "\u001b[1;32mC:\\ProgramData\\Anaconda3\\lib\\site-packages\\bokeh\\core\\property\\descriptors.py\u001b[0m in \u001b[0;36m__set__\u001b[1;34m(self, obj, value, setter)\u001b[0m\n\u001b[0;32m    543\u001b[0m             \u001b[1;32mraise\u001b[0m \u001b[0mRuntimeError\u001b[0m\u001b[1;33m(\u001b[0m\u001b[1;34m\"%s.%s is a readonly property\"\u001b[0m \u001b[1;33m%\u001b[0m \u001b[1;33m(\u001b[0m\u001b[0mobj\u001b[0m\u001b[1;33m.\u001b[0m\u001b[0m__class__\u001b[0m\u001b[1;33m.\u001b[0m\u001b[0m__name__\u001b[0m\u001b[1;33m,\u001b[0m \u001b[0mself\u001b[0m\u001b[1;33m.\u001b[0m\u001b[0mname\u001b[0m\u001b[1;33m)\u001b[0m\u001b[1;33m)\u001b[0m\u001b[1;33m\u001b[0m\u001b[1;33m\u001b[0m\u001b[0m\n\u001b[0;32m    544\u001b[0m \u001b[1;33m\u001b[0m\u001b[0m\n\u001b[1;32m--> 545\u001b[1;33m         \u001b[0mself\u001b[0m\u001b[1;33m.\u001b[0m\u001b[0m_internal_set\u001b[0m\u001b[1;33m(\u001b[0m\u001b[0mobj\u001b[0m\u001b[1;33m,\u001b[0m \u001b[0mvalue\u001b[0m\u001b[1;33m,\u001b[0m \u001b[0msetter\u001b[0m\u001b[1;33m=\u001b[0m\u001b[0msetter\u001b[0m\u001b[1;33m)\u001b[0m\u001b[1;33m\u001b[0m\u001b[1;33m\u001b[0m\u001b[0m\n\u001b[0m\u001b[0;32m    546\u001b[0m \u001b[1;33m\u001b[0m\u001b[0m\n\u001b[0;32m    547\u001b[0m     \u001b[1;32mdef\u001b[0m \u001b[0m__delete__\u001b[0m\u001b[1;33m(\u001b[0m\u001b[0mself\u001b[0m\u001b[1;33m,\u001b[0m \u001b[0mobj\u001b[0m\u001b[1;33m)\u001b[0m\u001b[1;33m:\u001b[0m\u001b[1;33m\u001b[0m\u001b[1;33m\u001b[0m\u001b[0m\n",
      "\u001b[1;32mC:\\ProgramData\\Anaconda3\\lib\\site-packages\\bokeh\\core\\property\\descriptors.py\u001b[0m in \u001b[0;36m_internal_set\u001b[1;34m(self, obj, value, hint, setter)\u001b[0m\n\u001b[0;32m    764\u001b[0m \u001b[1;33m\u001b[0m\u001b[0m\n\u001b[0;32m    765\u001b[0m         '''\n\u001b[1;32m--> 766\u001b[1;33m         \u001b[0mvalue\u001b[0m \u001b[1;33m=\u001b[0m \u001b[0mself\u001b[0m\u001b[1;33m.\u001b[0m\u001b[0mproperty\u001b[0m\u001b[1;33m.\u001b[0m\u001b[0mprepare_value\u001b[0m\u001b[1;33m(\u001b[0m\u001b[0mobj\u001b[0m\u001b[1;33m,\u001b[0m \u001b[0mself\u001b[0m\u001b[1;33m.\u001b[0m\u001b[0mname\u001b[0m\u001b[1;33m,\u001b[0m \u001b[0mvalue\u001b[0m\u001b[1;33m)\u001b[0m\u001b[1;33m\u001b[0m\u001b[1;33m\u001b[0m\u001b[0m\n\u001b[0m\u001b[0;32m    767\u001b[0m \u001b[1;33m\u001b[0m\u001b[0m\n\u001b[0;32m    768\u001b[0m         \u001b[0mold\u001b[0m \u001b[1;33m=\u001b[0m \u001b[0mself\u001b[0m\u001b[1;33m.\u001b[0m\u001b[0m__get__\u001b[0m\u001b[1;33m(\u001b[0m\u001b[0mobj\u001b[0m\u001b[1;33m,\u001b[0m \u001b[0mobj\u001b[0m\u001b[1;33m.\u001b[0m\u001b[0m__class__\u001b[0m\u001b[1;33m)\u001b[0m\u001b[1;33m\u001b[0m\u001b[1;33m\u001b[0m\u001b[0m\n",
      "\u001b[1;32mC:\\ProgramData\\Anaconda3\\lib\\site-packages\\bokeh\\core\\property\\bases.py\u001b[0m in \u001b[0;36mprepare_value\u001b[1;34m(self, obj_or_cls, name, value)\u001b[0m\n\u001b[0;32m    325\u001b[0m                     \u001b[1;32mbreak\u001b[0m\u001b[1;33m\u001b[0m\u001b[1;33m\u001b[0m\u001b[0m\n\u001b[0;32m    326\u001b[0m             \u001b[1;32melse\u001b[0m\u001b[1;33m:\u001b[0m\u001b[1;33m\u001b[0m\u001b[1;33m\u001b[0m\u001b[0m\n\u001b[1;32m--> 327\u001b[1;33m                 \u001b[1;32mraise\u001b[0m \u001b[0me\u001b[0m\u001b[1;33m\u001b[0m\u001b[1;33m\u001b[0m\u001b[0m\n\u001b[0m\u001b[0;32m    328\u001b[0m         \u001b[1;32melse\u001b[0m\u001b[1;33m:\u001b[0m\u001b[1;33m\u001b[0m\u001b[1;33m\u001b[0m\u001b[0m\n\u001b[0;32m    329\u001b[0m             \u001b[0mvalue\u001b[0m \u001b[1;33m=\u001b[0m \u001b[0mself\u001b[0m\u001b[1;33m.\u001b[0m\u001b[0mtransform\u001b[0m\u001b[1;33m(\u001b[0m\u001b[0mvalue\u001b[0m\u001b[1;33m)\u001b[0m\u001b[1;33m\u001b[0m\u001b[1;33m\u001b[0m\u001b[0m\n",
      "\u001b[1;32mC:\\ProgramData\\Anaconda3\\lib\\site-packages\\bokeh\\core\\property\\bases.py\u001b[0m in \u001b[0;36mprepare_value\u001b[1;34m(self, obj_or_cls, name, value)\u001b[0m\n\u001b[0;32m    318\u001b[0m         \u001b[1;32mtry\u001b[0m\u001b[1;33m:\u001b[0m\u001b[1;33m\u001b[0m\u001b[1;33m\u001b[0m\u001b[0m\n\u001b[0;32m    319\u001b[0m             \u001b[1;32mif\u001b[0m \u001b[0mvalidation_on\u001b[0m\u001b[1;33m(\u001b[0m\u001b[1;33m)\u001b[0m\u001b[1;33m:\u001b[0m\u001b[1;33m\u001b[0m\u001b[1;33m\u001b[0m\u001b[0m\n\u001b[1;32m--> 320\u001b[1;33m                 \u001b[0mself\u001b[0m\u001b[1;33m.\u001b[0m\u001b[0mvalidate\u001b[0m\u001b[1;33m(\u001b[0m\u001b[0mvalue\u001b[0m\u001b[1;33m)\u001b[0m\u001b[1;33m\u001b[0m\u001b[1;33m\u001b[0m\u001b[0m\n\u001b[0m\u001b[0;32m    321\u001b[0m         \u001b[1;32mexcept\u001b[0m \u001b[0mValueError\u001b[0m \u001b[1;32mas\u001b[0m \u001b[0me\u001b[0m\u001b[1;33m:\u001b[0m\u001b[1;33m\u001b[0m\u001b[1;33m\u001b[0m\u001b[0m\n\u001b[0;32m    322\u001b[0m             \u001b[1;32mfor\u001b[0m \u001b[0mtp\u001b[0m\u001b[1;33m,\u001b[0m \u001b[0mconverter\u001b[0m \u001b[1;32min\u001b[0m \u001b[0mself\u001b[0m\u001b[1;33m.\u001b[0m\u001b[0malternatives\u001b[0m\u001b[1;33m:\u001b[0m\u001b[1;33m\u001b[0m\u001b[1;33m\u001b[0m\u001b[0m\n",
      "\u001b[1;32mC:\\ProgramData\\Anaconda3\\lib\\site-packages\\bokeh\\core\\property\\either.py\u001b[0m in \u001b[0;36mvalidate\u001b[1;34m(self, value, detail)\u001b[0m\n\u001b[0;32m    114\u001b[0m         \u001b[1;32mif\u001b[0m \u001b[1;32mnot\u001b[0m \u001b[1;33m(\u001b[0m\u001b[0mvalue\u001b[0m \u001b[1;32mis\u001b[0m \u001b[1;32mNone\u001b[0m \u001b[1;32mor\u001b[0m \u001b[0many\u001b[0m\u001b[1;33m(\u001b[0m\u001b[0mparam\u001b[0m\u001b[1;33m.\u001b[0m\u001b[0mis_valid\u001b[0m\u001b[1;33m(\u001b[0m\u001b[0mvalue\u001b[0m\u001b[1;33m)\u001b[0m \u001b[1;32mfor\u001b[0m \u001b[0mparam\u001b[0m \u001b[1;32min\u001b[0m \u001b[0mself\u001b[0m\u001b[1;33m.\u001b[0m\u001b[0mtype_params\u001b[0m\u001b[1;33m)\u001b[0m\u001b[1;33m)\u001b[0m\u001b[1;33m:\u001b[0m\u001b[1;33m\u001b[0m\u001b[1;33m\u001b[0m\u001b[0m\n\u001b[0;32m    115\u001b[0m             \u001b[0mmsg\u001b[0m \u001b[1;33m=\u001b[0m \u001b[1;34m\"\"\u001b[0m \u001b[1;32mif\u001b[0m \u001b[1;32mnot\u001b[0m \u001b[0mdetail\u001b[0m \u001b[1;32melse\u001b[0m \u001b[1;34m\"expected an element of either %s, got %r\"\u001b[0m \u001b[1;33m%\u001b[0m \u001b[1;33m(\u001b[0m\u001b[0mnice_join\u001b[0m\u001b[1;33m(\u001b[0m\u001b[0mself\u001b[0m\u001b[1;33m.\u001b[0m\u001b[0mtype_params\u001b[0m\u001b[1;33m)\u001b[0m\u001b[1;33m,\u001b[0m \u001b[0mvalue\u001b[0m\u001b[1;33m)\u001b[0m\u001b[1;33m\u001b[0m\u001b[1;33m\u001b[0m\u001b[0m\n\u001b[1;32m--> 116\u001b[1;33m             \u001b[1;32mraise\u001b[0m \u001b[0mValueError\u001b[0m\u001b[1;33m(\u001b[0m\u001b[0mmsg\u001b[0m\u001b[1;33m)\u001b[0m\u001b[1;33m\u001b[0m\u001b[1;33m\u001b[0m\u001b[0m\n\u001b[0m\u001b[0;32m    117\u001b[0m \u001b[1;33m\u001b[0m\u001b[0m\n\u001b[0;32m    118\u001b[0m     \u001b[1;31m# TODO (bev) implement this\u001b[0m\u001b[1;33m\u001b[0m\u001b[1;33m\u001b[0m\u001b[1;33m\u001b[0m\u001b[0m\n",
      "\u001b[1;31mValueError\u001b[0m: expected an element of either Seq(String), Seq(Tuple(String, String)) or Seq(Tuple(String, String, String)), got [(2015, 'ENTSO-E Data Portal'), (2015, 'ENTSO-E Power Statistics'), (2015, 'ENTSO-E SOAF'), (2015, 'ENTSO-E Transparency Platform'), (2015, 'EUROSTAT'), (2016, 'ENTSO-E Power Statistics'), (2016, 'ENTSO-E Transparency Platform'), (2016, 'EUROSTAT'), (2017, 'ENTSO-E Power Statistics'), (2017, 'ENTSO-E Transparency Platform')]"
     ]
    }
   ],
   "source": [
    "p = plt.figure(x_range=FactorRange(*x_axis), title=input_co, tools=\"\")\n",
    "\n",
    "p.vbar_stack(technologies, x='x', width=0.9, source=source, legend_label=technologies)\n",
    "\n",
    "plt.show(p)"
   ]
  },
  {
   "cell_type": "markdown",
   "metadata": {},
   "source": [
    "## 4.1 Energy source level 1"
   ]
  },
  {
   "cell_type": "markdown",
   "metadata": {},
   "source": [
    "### 4.1.1 Table"
   ]
  },
  {
   "cell_type": "code",
   "execution_count": null,
   "metadata": {},
   "outputs": [],
   "source": [
    "pivot_capacity_level1 = pd.pivot_table(data_selection[data_selection.energy_source_level_1 == True],\n",
    "                                       index=('country','year','source'),\n",
    "                                       columns='technology',\n",
    "                                       values='capacity',\n",
    "                                       aggfunc=sum,\n",
    "                                       margins=False)\n",
    "\n",
    "pivot_capacity_level1"
   ]
  },
  {
   "cell_type": "markdown",
   "metadata": {},
   "source": [
    "### 4.1.2 Bokeh chart"
   ]
  },
  {
   "cell_type": "markdown",
   "metadata": {},
   "source": [
    "Please use the zoom and hover option to inspect the data graphically."
   ]
  },
  {
   "cell_type": "code",
   "execution_count": null,
   "metadata": {
    "scrolled": true
   },
   "outputs": [],
   "source": [
    "data_energy_level_1 = data_selection[data_selection.energy_source_level_1 == True].copy()\n",
    "data_energy_level_1['color'] = 'White'\n",
    "data_energy_level_1['color'] = data_energy_level_1['technology'].map(colormap)\n",
    "\n",
    "bar = Bar(data_energy_level_1, values='capacity', label=['country', 'year', 'source'], stack='technology',\n",
    "          title=\"National capacity by type of energy source\", tools=\"pan,wheel_zoom,box_zoom,reset,hover,save\",\n",
    "          legend='top_right', \n",
    "          plot_width=1600, plot_height=800,\n",
    "#          color=color(columns='technology', palette=['Black', 'Red', 'Green', 'Orange'], sort=False))\n",
    "          color='color')\n",
    "bar._yaxis.formatter = NumeralTickFormatter(format=\"00,000 MW\")\n",
    "\n",
    "hover = bar.select_one(HoverTool)\n",
    "hover.point_policy = \"follow_mouse\"\n",
    "hover.tooltips = [(\"Country\", \"@country\"),\n",
    "                  (\"Year\", \"@year\"),\n",
    "                  (\"Source\", \"@source\"),\n",
    "                  (\"Category\", \"@technology\"),\n",
    "                  (\"Capacity\", \"@height{00,000.00} MW\"),\n",
    "]\n",
    "\n",
    "show(bar)"
   ]
  },
  {
   "cell_type": "code",
   "execution_count": null,
   "metadata": {
    "scrolled": true
   },
   "outputs": [],
   "source": [
    "test_df = pd.DataFrame({'country': [\"Germany\",\"DK\",\"FR\", \"Germany\",\"DK\",\"FR\"],\n",
    "                        'capacity': np.array([5,2,4, 5, 3, 7]),\n",
    "                        'technology': [\"a\",\"a\",\"a\", \"b\", \"b\", \"b\"]\n",
    "                       })\n",
    "\n",
    "#test_df[\"index\"] = range(1, len(test_df)+1)\n",
    "#new_ticks = dict(zip(test_df[\"index\"], test_df[\"country\"]))\n",
    "asdf = pd.pivot_table(test_df, index='country', columns='technology', values='capacity')\n",
    "source = ColumnDataSource(asdf)\n",
    "asdf.head()"
   ]
  },
  {
   "cell_type": "code",
   "execution_count": null,
   "metadata": {
    "scrolled": true
   },
   "outputs": [],
   "source": [
    "countries = test_df['country'].unique()\n",
    "technologies = test_df['technology'].unique()\n",
    "colors = [\"#c9d9d3\", \"#718dbf\"]\n",
    "p = plt.figure(x_range=countries)\n",
    "p.vbar_stack(technologies, x='country', width=0.9, source=source, color=colors)\n",
    "plt.show(p)"
   ]
  },
  {
   "cell_type": "code",
   "execution_count": null,
   "metadata": {
    "scrolled": true
   },
   "outputs": [],
   "source": [
    "p = plt.figure(title=\"simple line example\", x_axis_label='country', y_axis_label='capacity',\n",
    "              plot_width=950,  x_range=test_df[\"country\"])\n",
    "p.vbar(test_df['technology'], x=test_df[\"country\"], width=0.5)\n",
    "#p.xaxis.ticker = test_df[\"index\"]\n",
    "#p.xaxis.major_label_overrides = new_ticks\n",
    "\n",
    "plt.show(p)"
   ]
  },
  {
   "cell_type": "code",
   "execution_count": null,
   "metadata": {},
   "outputs": [],
   "source": [
    "df = data_energy_level_1.loc[data_energy_level_1[\"source\"] == \"ENTSO-E SOAF\", :]\n",
    "df = df[df['country'] == 'DE']\n",
    "df.head()"
   ]
  },
  {
   "cell_type": "code",
   "execution_count": null,
   "metadata": {},
   "outputs": [],
   "source": [
    "df[\"index\"] = range(1, len(df)+1)\n",
    "new_ticks = dict(zip(df[\"index\"], df[\"year\"]))\n",
    "source = ColumnDataSource(df)\n",
    "df.head()"
   ]
  },
  {
   "cell_type": "code",
   "execution_count": null,
   "metadata": {},
   "outputs": [],
   "source": [
    "p = plt.figure(title=\"simple line example\", x_axis_label='country', y_axis_label='capacity',\n",
    "              plot_width=950)\n",
    "p.vbar_stack(x='index', stackers='capacity', width=0.5, source=source)\n",
    "#p.xaxis.ticker = test_df[\"index\"]\n",
    "#p.xaxis.major_label_overrides = new_ticks\n",
    "\n",
    "plt.show(p)"
   ]
  },
  {
   "cell_type": "code",
   "execution_count": 3,
   "metadata": {
    "scrolled": true
   },
   "outputs": [
    {
     "data": {
      "text/html": [
       "<div>\n",
       "<style scoped>\n",
       "    .dataframe tbody tr th:only-of-type {\n",
       "        vertical-align: middle;\n",
       "    }\n",
       "\n",
       "    .dataframe tbody tr th {\n",
       "        vertical-align: top;\n",
       "    }\n",
       "\n",
       "    .dataframe thead th {\n",
       "        text-align: right;\n",
       "    }\n",
       "</style>\n",
       "<table border=\"1\" class=\"dataframe\">\n",
       "  <thead>\n",
       "    <tr style=\"text-align: right;\">\n",
       "      <th>technology</th>\n",
       "      <th>a</th>\n",
       "      <th>b</th>\n",
       "    </tr>\n",
       "    <tr>\n",
       "      <th>country</th>\n",
       "      <th></th>\n",
       "      <th></th>\n",
       "    </tr>\n",
       "  </thead>\n",
       "  <tbody>\n",
       "    <tr>\n",
       "      <th>DK</th>\n",
       "      <td>2</td>\n",
       "      <td>3</td>\n",
       "    </tr>\n",
       "    <tr>\n",
       "      <th>FR</th>\n",
       "      <td>4</td>\n",
       "      <td>7</td>\n",
       "    </tr>\n",
       "    <tr>\n",
       "      <th>Germany</th>\n",
       "      <td>5</td>\n",
       "      <td>5</td>\n",
       "    </tr>\n",
       "  </tbody>\n",
       "</table>\n",
       "</div>"
      ],
      "text/plain": [
       "technology  a  b\n",
       "country         \n",
       "DK          2  3\n",
       "FR          4  7\n",
       "Germany     5  5"
      ]
     },
     "execution_count": 3,
     "metadata": {},
     "output_type": "execute_result"
    }
   ],
   "source": [
    "test_df = pd.DataFrame({'country': [\"Germany\",\"DK\",\"FR\", \"Germany\",\"DK\",\"FR\"],\n",
    "                        'capacity': np.array([5,2,4, 5, 3, 7]),\n",
    "                        'technology': [\"a\",\"a\",\"a\", \"b\", \"b\", \"b\"]\n",
    "                       })\n",
    "\n",
    "#test_df[\"index\"] = range(1, len(test_df)+1)\n",
    "#new_ticks = dict(zip(test_df[\"index\"], test_df[\"country\"]))\n",
    "asdf = pd.pivot_table(test_df, index='country', columns='technology', values='capacity')\n",
    "source = ColumnDataSource(asdf)\n",
    "asdf.head()"
   ]
  },
  {
   "cell_type": "code",
   "execution_count": 36,
   "metadata": {},
   "outputs": [],
   "source": [
    "countries = list(asdf.index)\n",
    "technologies = list(asdf.columns)"
   ]
  },
  {
   "cell_type": "code",
   "execution_count": 38,
   "metadata": {},
   "outputs": [
    {
     "data": {
      "text/html": [
       "\n",
       "\n",
       "\n",
       "\n",
       "\n",
       "\n",
       "  <div class=\"bk-root\" id=\"aa4cfd8c-8772-4d4c-9e08-7a21ac1c4598\" data-root-id=\"1939\"></div>\n"
      ]
     },
     "metadata": {},
     "output_type": "display_data"
    },
    {
     "data": {
      "application/javascript": [
       "(function(root) {\n",
       "  function embed_document(root) {\n",
       "    \n",
       "  var docs_json = {\"3f90adb1-fcbf-4b29-ac2c-0a0146912c99\":{\"roots\":{\"references\":[{\"attributes\":{\"below\":[{\"id\":\"1950\",\"type\":\"CategoricalAxis\"}],\"center\":[{\"id\":\"1953\",\"type\":\"Grid\"},{\"id\":\"1958\",\"type\":\"Grid\"},{\"id\":\"1975\",\"type\":\"Legend\"}],\"left\":[{\"id\":\"1954\",\"type\":\"LinearAxis\"}],\"outline_line_color\":{\"value\":null},\"plot_height\":250,\"renderers\":[{\"id\":\"1968\",\"type\":\"GlyphRenderer\"},{\"id\":\"1981\",\"type\":\"GlyphRenderer\"}],\"title\":{\"id\":\"1940\",\"type\":\"Title\"},\"toolbar\":{\"id\":\"1959\",\"type\":\"Toolbar\"},\"toolbar_location\":null,\"x_range\":{\"id\":\"1942\",\"type\":\"FactorRange\"},\"x_scale\":{\"id\":\"1946\",\"type\":\"CategoricalScale\"},\"y_range\":{\"id\":\"1944\",\"type\":\"DataRange1d\"},\"y_scale\":{\"id\":\"1948\",\"type\":\"LinearScale\"}},\"id\":\"1939\",\"subtype\":\"Figure\",\"type\":\"Plot\"},{\"attributes\":{\"formatter\":{\"id\":\"1973\",\"type\":\"CategoricalTickFormatter\"},\"minor_tick_line_color\":{\"value\":null},\"ticker\":{\"id\":\"1951\",\"type\":\"CategoricalTicker\"}},\"id\":\"1950\",\"type\":\"CategoricalAxis\"},{\"attributes\":{\"source\":{\"id\":\"1964\",\"type\":\"ColumnDataSource\"}},\"id\":\"1969\",\"type\":\"CDSView\"},{\"attributes\":{},\"id\":\"1948\",\"type\":\"LinearScale\"},{\"attributes\":{},\"id\":\"1971\",\"type\":\"BasicTickFormatter\"},{\"attributes\":{},\"id\":\"1946\",\"type\":\"CategoricalScale\"},{\"attributes\":{},\"id\":\"1973\",\"type\":\"CategoricalTickFormatter\"},{\"attributes\":{},\"id\":\"1951\",\"type\":\"CategoricalTicker\"},{\"attributes\":{\"items\":[{\"id\":\"1976\",\"type\":\"LegendItem\"},{\"id\":\"1990\",\"type\":\"LegendItem\"}],\"location\":\"top_left\",\"orientation\":\"horizontal\"},\"id\":\"1975\",\"type\":\"Legend\"},{\"attributes\":{\"fields\":[\"a\"]},\"id\":\"1962\",\"type\":\"Stack\"},{\"attributes\":{\"callback\":null,\"data\":{\"a\":[2,1,4],\"b\":[5,3,4],\"countries\":[\"DK\",\"FR\",\"Germany\"]},\"selected\":{\"id\":\"1989\",\"type\":\"Selection\"},\"selection_policy\":{\"id\":\"1988\",\"type\":\"UnionRenderers\"}},\"id\":\"1964\",\"type\":\"ColumnDataSource\"},{\"attributes\":{\"label\":{\"value\":\"a\"},\"renderers\":[{\"id\":\"1968\",\"type\":\"GlyphRenderer\"}]},\"id\":\"1976\",\"type\":\"LegendItem\"},{\"attributes\":{\"label\":{\"value\":\"b\"},\"renderers\":[{\"id\":\"1981\",\"type\":\"GlyphRenderer\"}]},\"id\":\"1990\",\"type\":\"LegendItem\"},{\"attributes\":{\"fields\":[\"a\",\"b\"]},\"id\":\"1963\",\"type\":\"Stack\"},{\"attributes\":{\"bottom\":{\"expr\":{\"id\":\"1960\",\"type\":\"Stack\"}},\"fill_color\":{\"value\":\"#c9d9d3\"},\"line_color\":{\"value\":\"#c9d9d3\"},\"top\":{\"expr\":{\"id\":\"1961\",\"type\":\"Stack\"}},\"width\":{\"value\":0.9},\"x\":{\"field\":\"countries\"}},\"id\":\"1966\",\"type\":\"VBar\"},{\"attributes\":{\"callback\":null,\"data\":{\"a\":[2,1,4],\"b\":[5,3,4],\"countries\":[\"DK\",\"FR\",\"Germany\"]},\"selected\":{\"id\":\"2048\",\"type\":\"Selection\"},\"selection_policy\":{\"id\":\"2047\",\"type\":\"UnionRenderers\"}},\"id\":\"1977\",\"type\":\"ColumnDataSource\"},{\"attributes\":{\"fields\":[\"a\"]},\"id\":\"1961\",\"type\":\"Stack\"},{\"attributes\":{\"bottom\":{\"expr\":{\"id\":\"1962\",\"type\":\"Stack\"}},\"fill_color\":{\"value\":\"#718dbf\"},\"line_color\":{\"value\":\"#718dbf\"},\"top\":{\"expr\":{\"id\":\"1963\",\"type\":\"Stack\"}},\"width\":{\"value\":0.9},\"x\":{\"field\":\"countries\"}},\"id\":\"1979\",\"type\":\"VBar\"},{\"attributes\":{},\"id\":\"1955\",\"type\":\"BasicTicker\"},{\"attributes\":{\"formatter\":{\"id\":\"1971\",\"type\":\"BasicTickFormatter\"},\"minor_tick_line_color\":{\"value\":null},\"ticker\":{\"id\":\"1955\",\"type\":\"BasicTicker\"}},\"id\":\"1954\",\"type\":\"LinearAxis\"},{\"attributes\":{\"bottom\":{\"expr\":{\"id\":\"1962\",\"type\":\"Stack\"}},\"fill_alpha\":{\"value\":0.1},\"fill_color\":{\"value\":\"#1f77b4\"},\"line_alpha\":{\"value\":0.1},\"line_color\":{\"value\":\"#1f77b4\"},\"top\":{\"expr\":{\"id\":\"1963\",\"type\":\"Stack\"}},\"width\":{\"value\":0.9},\"x\":{\"field\":\"countries\"}},\"id\":\"1980\",\"type\":\"VBar\"},{\"attributes\":{\"data_source\":{\"id\":\"1977\",\"type\":\"ColumnDataSource\"},\"glyph\":{\"id\":\"1979\",\"type\":\"VBar\"},\"hover_glyph\":null,\"muted_glyph\":null,\"name\":\"b\",\"nonselection_glyph\":{\"id\":\"1980\",\"type\":\"VBar\"},\"selection_glyph\":null,\"view\":{\"id\":\"1982\",\"type\":\"CDSView\"}},\"id\":\"1981\",\"type\":\"GlyphRenderer\"},{\"attributes\":{\"dimension\":1,\"ticker\":{\"id\":\"1955\",\"type\":\"BasicTicker\"}},\"id\":\"1958\",\"type\":\"Grid\"},{\"attributes\":{\"data_source\":{\"id\":\"1964\",\"type\":\"ColumnDataSource\"},\"glyph\":{\"id\":\"1966\",\"type\":\"VBar\"},\"hover_glyph\":null,\"muted_glyph\":null,\"name\":\"a\",\"nonselection_glyph\":{\"id\":\"1967\",\"type\":\"VBar\"},\"selection_glyph\":null,\"view\":{\"id\":\"1969\",\"type\":\"CDSView\"}},\"id\":\"1968\",\"type\":\"GlyphRenderer\"},{\"attributes\":{\"callback\":null,\"start\":0},\"id\":\"1944\",\"type\":\"DataRange1d\"},{\"attributes\":{\"callback\":null,\"factors\":[\"DK\",\"FR\",\"Germany\"],\"range_padding\":0.1},\"id\":\"1942\",\"type\":\"FactorRange\"},{\"attributes\":{\"source\":{\"id\":\"1977\",\"type\":\"ColumnDataSource\"}},\"id\":\"1982\",\"type\":\"CDSView\"},{\"attributes\":{},\"id\":\"1988\",\"type\":\"UnionRenderers\"},{\"attributes\":{},\"id\":\"2047\",\"type\":\"UnionRenderers\"},{\"attributes\":{},\"id\":\"1989\",\"type\":\"Selection\"},{\"attributes\":{\"text\":\"bla\"},\"id\":\"1940\",\"type\":\"Title\"},{\"attributes\":{\"active_drag\":\"auto\",\"active_inspect\":\"auto\",\"active_multi\":null,\"active_scroll\":\"auto\",\"active_tap\":\"auto\"},\"id\":\"1959\",\"type\":\"Toolbar\"},{\"attributes\":{},\"id\":\"2048\",\"type\":\"Selection\"},{\"attributes\":{\"grid_line_color\":null,\"ticker\":{\"id\":\"1951\",\"type\":\"CategoricalTicker\"}},\"id\":\"1953\",\"type\":\"Grid\"},{\"attributes\":{\"bottom\":{\"expr\":{\"id\":\"1960\",\"type\":\"Stack\"}},\"fill_alpha\":{\"value\":0.1},\"fill_color\":{\"value\":\"#1f77b4\"},\"line_alpha\":{\"value\":0.1},\"line_color\":{\"value\":\"#1f77b4\"},\"top\":{\"expr\":{\"id\":\"1961\",\"type\":\"Stack\"}},\"width\":{\"value\":0.9},\"x\":{\"field\":\"countries\"}},\"id\":\"1967\",\"type\":\"VBar\"},{\"attributes\":{\"fields\":[]},\"id\":\"1960\",\"type\":\"Stack\"}],\"root_ids\":[\"1939\"]},\"title\":\"Bokeh Application\",\"version\":\"1.4.0\"}};\n",
       "  var render_items = [{\"docid\":\"3f90adb1-fcbf-4b29-ac2c-0a0146912c99\",\"roots\":{\"1939\":\"aa4cfd8c-8772-4d4c-9e08-7a21ac1c4598\"}}];\n",
       "  root.Bokeh.embed.embed_items_notebook(docs_json, render_items);\n",
       "\n",
       "  }\n",
       "  if (root.Bokeh !== undefined) {\n",
       "    embed_document(root);\n",
       "  } else {\n",
       "    var attempts = 0;\n",
       "    var timer = setInterval(function(root) {\n",
       "      if (root.Bokeh !== undefined) {\n",
       "        clearInterval(timer);\n",
       "        embed_document(root);\n",
       "      } else {\n",
       "        attempts++;\n",
       "        if (attempts > 100) {\n",
       "          clearInterval(timer);\n",
       "          console.log(\"Bokeh: ERROR: Unable to run BokehJS code because BokehJS library is missing\");\n",
       "        }\n",
       "      }\n",
       "    }, 10, root)\n",
       "  }\n",
       "})(window);"
      ],
      "application/vnd.bokehjs_exec.v0+json": ""
     },
     "metadata": {
      "application/vnd.bokehjs_exec.v0+json": {
       "id": "1939"
      }
     },
     "output_type": "display_data"
    }
   ],
   "source": [
    "colors = [\"#c9d9d3\", \"#718dbf\"]\n",
    "\n",
    "data = {'countries' : countries,\n",
    "        'a'   : [2, 1, 4],\n",
    "        'b'   : [5, 3, 4]}\n",
    "\n",
    "p = plt.figure(x_range=countries, plot_height=250, title=\"bla\",\n",
    "           toolbar_location=None, tools=\"\")\n",
    "\n",
    "p.vbar_stack(technologies, x='countries', width=0.9, color=colors, source=data,\n",
    "            legend_label=technologies)\n",
    "\n",
    "plt.show(p)"
   ]
  },
  {
   "cell_type": "code",
   "execution_count": 80,
   "metadata": {},
   "outputs": [],
   "source": [
    "countries = list(asdf.index)\n",
    "technologies = list(asdf.columns)"
   ]
  },
  {
   "cell_type": "code",
   "execution_count": 81,
   "metadata": {},
   "outputs": [
    {
     "data": {
      "text/plain": [
       "[('DK', '2015'),\n",
       " ('DK', '2016'),\n",
       " ('FR', '2015'),\n",
       " ('FR', '2016'),\n",
       " ('Germany', '2015'),\n",
       " ('Germany', '2016')]"
      ]
     },
     "execution_count": 81,
     "metadata": {},
     "output_type": "execute_result"
    }
   ],
   "source": [
    "years = ['2015','2016']\n",
    "x_axis = [ (c, y) for c in countries for y in years ]\n",
    "x_axis"
   ]
  },
  {
   "cell_type": "code",
   "execution_count": 82,
   "metadata": {},
   "outputs": [],
   "source": [
    "y1 = [i for i in range(1,len(x_axis)+1)]\n",
    "y2 = [1+ i/2 for i in range(1,len(x_axis)+1)]"
   ]
  },
  {
   "cell_type": "code",
   "execution_count": 83,
   "metadata": {},
   "outputs": [
    {
     "data": {
      "text/plain": [
       "{'x': [('DK', '2015'),\n",
       "  ('DK', '2016'),\n",
       "  ('FR', '2015'),\n",
       "  ('FR', '2016'),\n",
       "  ('Germany', '2015'),\n",
       "  ('Germany', '2016')],\n",
       " 'y1': [1, 2, 3, 4, 5, 6],\n",
       " 'y2': [1.5, 2.0, 2.5, 3.0, 3.5, 4.0]}"
      ]
     },
     "execution_count": 83,
     "metadata": {},
     "output_type": "execute_result"
    }
   ],
   "source": [
    "data = dict(x=x_axis, y1=y1, y2=y2)\n",
    "source = ColumnDataSource(data)\n",
    "data"
   ]
  },
  {
   "cell_type": "code",
   "execution_count": 86,
   "metadata": {},
   "outputs": [],
   "source": [
    "tech = ['y1','y2']\n",
    "colors = [\"#c9d9d3\", \"#718dbf\"]"
   ]
  },
  {
   "cell_type": "code",
   "execution_count": 89,
   "metadata": {},
   "outputs": [
    {
     "data": {
      "text/html": [
       "\n",
       "\n",
       "\n",
       "\n",
       "\n",
       "\n",
       "  <div class=\"bk-root\" id=\"0ef517df-bb43-4809-afb8-41c0a9a54cad\" data-root-id=\"4776\"></div>\n"
      ]
     },
     "metadata": {},
     "output_type": "display_data"
    },
    {
     "data": {
      "application/javascript": [
       "(function(root) {\n",
       "  function embed_document(root) {\n",
       "    \n",
       "  var docs_json = {\"0c5e0f4f-b8d6-4756-b2cd-82e2f2e5275d\":{\"roots\":{\"references\":[{\"attributes\":{\"below\":[{\"id\":\"4786\",\"type\":\"CategoricalAxis\"}],\"center\":[{\"id\":\"4789\",\"type\":\"Grid\"},{\"id\":\"4794\",\"type\":\"Grid\"},{\"id\":\"4810\",\"type\":\"Legend\"}],\"left\":[{\"id\":\"4790\",\"type\":\"LinearAxis\"}],\"renderers\":[{\"id\":\"4803\",\"type\":\"GlyphRenderer\"},{\"id\":\"4815\",\"type\":\"GlyphRenderer\"}],\"title\":{\"id\":\"4777\",\"type\":\"Title\"},\"toolbar\":{\"id\":\"4795\",\"type\":\"Toolbar\"},\"x_range\":{\"id\":\"4775\",\"type\":\"FactorRange\"},\"x_scale\":{\"id\":\"4782\",\"type\":\"CategoricalScale\"},\"y_range\":{\"id\":\"4780\",\"type\":\"DataRange1d\"},\"y_scale\":{\"id\":\"4784\",\"type\":\"LinearScale\"}},\"id\":\"4776\",\"subtype\":\"Figure\",\"type\":\"Plot\"},{\"attributes\":{\"formatter\":{\"id\":\"4808\",\"type\":\"CategoricalTickFormatter\"},\"ticker\":{\"id\":\"4787\",\"type\":\"CategoricalTicker\"}},\"id\":\"4786\",\"type\":\"CategoricalAxis\"},{\"attributes\":{\"label\":{\"value\":\"y2\"},\"renderers\":[{\"id\":\"4815\",\"type\":\"GlyphRenderer\"}]},\"id\":\"4824\",\"type\":\"LegendItem\"},{\"attributes\":{},\"id\":\"4784\",\"type\":\"LinearScale\"},{\"attributes\":{\"callback\":null,\"factors\":[[\"DK\",\"2015\"],[\"DK\",\"2016\"],[\"FR\",\"2015\"],[\"FR\",\"2016\"],[\"Germany\",\"2015\"],[\"Germany\",\"2016\"]]},\"id\":\"4775\",\"type\":\"FactorRange\"},{\"attributes\":{},\"id\":\"4782\",\"type\":\"CategoricalScale\"},{\"attributes\":{\"callback\":null,\"data\":{\"x\":[[\"DK\",\"2015\"],[\"DK\",\"2016\"],[\"FR\",\"2015\"],[\"FR\",\"2016\"],[\"Germany\",\"2015\"],[\"Germany\",\"2016\"]],\"y1\":[1,2,3,4,5,6],\"y2\":[1.5,2.0,2.5,3.0,3.5,4.0]},\"selected\":{\"id\":\"4468\",\"type\":\"Selection\"},\"selection_policy\":{\"id\":\"4467\",\"type\":\"UnionRenderers\"}},\"id\":\"4280\",\"type\":\"ColumnDataSource\"},{\"attributes\":{\"ticker\":{\"id\":\"4787\",\"type\":\"CategoricalTicker\"}},\"id\":\"4789\",\"type\":\"Grid\"},{\"attributes\":{\"bottom\":{\"expr\":{\"id\":\"4798\",\"type\":\"Stack\"}},\"fill_color\":{\"value\":\"#718dbf\"},\"line_color\":{\"value\":\"#718dbf\"},\"top\":{\"expr\":{\"id\":\"4799\",\"type\":\"Stack\"}},\"width\":{\"value\":0.9},\"x\":{\"field\":\"x\"}},\"id\":\"4813\",\"type\":\"VBar\"},{\"attributes\":{\"fields\":[\"y1\",\"y2\"]},\"id\":\"4799\",\"type\":\"Stack\"},{\"attributes\":{\"source\":{\"id\":\"4280\",\"type\":\"ColumnDataSource\"}},\"id\":\"4816\",\"type\":\"CDSView\"},{\"attributes\":{\"fields\":[\"y1\"]},\"id\":\"4798\",\"type\":\"Stack\"},{\"attributes\":{\"fields\":[\"y1\"]},\"id\":\"4797\",\"type\":\"Stack\"},{\"attributes\":{\"callback\":null},\"id\":\"4780\",\"type\":\"DataRange1d\"},{\"attributes\":{\"fields\":[]},\"id\":\"4796\",\"type\":\"Stack\"},{\"attributes\":{\"active_drag\":\"auto\",\"active_inspect\":\"auto\",\"active_multi\":null,\"active_scroll\":\"auto\",\"active_tap\":\"auto\"},\"id\":\"4795\",\"type\":\"Toolbar\"},{\"attributes\":{\"dimension\":1,\"ticker\":{\"id\":\"4791\",\"type\":\"BasicTicker\"}},\"id\":\"4794\",\"type\":\"Grid\"},{\"attributes\":{},\"id\":\"4467\",\"type\":\"UnionRenderers\"},{\"attributes\":{\"items\":[{\"id\":\"4811\",\"type\":\"LegendItem\"},{\"id\":\"4824\",\"type\":\"LegendItem\"}]},\"id\":\"4810\",\"type\":\"Legend\"},{\"attributes\":{},\"id\":\"4468\",\"type\":\"Selection\"},{\"attributes\":{\"data_source\":{\"id\":\"4280\",\"type\":\"ColumnDataSource\"},\"glyph\":{\"id\":\"4801\",\"type\":\"VBar\"},\"hover_glyph\":null,\"muted_glyph\":null,\"name\":\"y1\",\"nonselection_glyph\":{\"id\":\"4802\",\"type\":\"VBar\"},\"selection_glyph\":null,\"view\":{\"id\":\"4804\",\"type\":\"CDSView\"}},\"id\":\"4803\",\"type\":\"GlyphRenderer\"},{\"attributes\":{\"source\":{\"id\":\"4280\",\"type\":\"ColumnDataSource\"}},\"id\":\"4804\",\"type\":\"CDSView\"},{\"attributes\":{},\"id\":\"4808\",\"type\":\"CategoricalTickFormatter\"},{\"attributes\":{},\"id\":\"4806\",\"type\":\"BasicTickFormatter\"},{\"attributes\":{},\"id\":\"4791\",\"type\":\"BasicTicker\"},{\"attributes\":{\"label\":{\"value\":\"y1\"},\"renderers\":[{\"id\":\"4803\",\"type\":\"GlyphRenderer\"}]},\"id\":\"4811\",\"type\":\"LegendItem\"},{\"attributes\":{\"data_source\":{\"id\":\"4280\",\"type\":\"ColumnDataSource\"},\"glyph\":{\"id\":\"4813\",\"type\":\"VBar\"},\"hover_glyph\":null,\"muted_glyph\":null,\"name\":\"y2\",\"nonselection_glyph\":{\"id\":\"4814\",\"type\":\"VBar\"},\"selection_glyph\":null,\"view\":{\"id\":\"4816\",\"type\":\"CDSView\"}},\"id\":\"4815\",\"type\":\"GlyphRenderer\"},{\"attributes\":{\"bottom\":{\"expr\":{\"id\":\"4798\",\"type\":\"Stack\"}},\"fill_alpha\":{\"value\":0.1},\"fill_color\":{\"value\":\"#1f77b4\"},\"line_alpha\":{\"value\":0.1},\"line_color\":{\"value\":\"#1f77b4\"},\"top\":{\"expr\":{\"id\":\"4799\",\"type\":\"Stack\"}},\"width\":{\"value\":0.9},\"x\":{\"field\":\"x\"}},\"id\":\"4814\",\"type\":\"VBar\"},{\"attributes\":{\"formatter\":{\"id\":\"4806\",\"type\":\"BasicTickFormatter\"},\"ticker\":{\"id\":\"4791\",\"type\":\"BasicTicker\"}},\"id\":\"4790\",\"type\":\"LinearAxis\"},{\"attributes\":{\"bottom\":{\"expr\":{\"id\":\"4796\",\"type\":\"Stack\"}},\"fill_color\":{\"value\":\"#c9d9d3\"},\"line_color\":{\"value\":\"#c9d9d3\"},\"top\":{\"expr\":{\"id\":\"4797\",\"type\":\"Stack\"}},\"width\":{\"value\":0.9},\"x\":{\"field\":\"x\"}},\"id\":\"4801\",\"type\":\"VBar\"},{\"attributes\":{},\"id\":\"4787\",\"type\":\"CategoricalTicker\"},{\"attributes\":{\"text\":\"bla\"},\"id\":\"4777\",\"type\":\"Title\"},{\"attributes\":{\"bottom\":{\"expr\":{\"id\":\"4796\",\"type\":\"Stack\"}},\"fill_alpha\":{\"value\":0.1},\"fill_color\":{\"value\":\"#1f77b4\"},\"line_alpha\":{\"value\":0.1},\"line_color\":{\"value\":\"#1f77b4\"},\"top\":{\"expr\":{\"id\":\"4797\",\"type\":\"Stack\"}},\"width\":{\"value\":0.9},\"x\":{\"field\":\"x\"}},\"id\":\"4802\",\"type\":\"VBar\"}],\"root_ids\":[\"4776\"]},\"title\":\"Bokeh Application\",\"version\":\"1.4.0\"}};\n",
       "  var render_items = [{\"docid\":\"0c5e0f4f-b8d6-4756-b2cd-82e2f2e5275d\",\"roots\":{\"4776\":\"0ef517df-bb43-4809-afb8-41c0a9a54cad\"}}];\n",
       "  root.Bokeh.embed.embed_items_notebook(docs_json, render_items);\n",
       "\n",
       "  }\n",
       "  if (root.Bokeh !== undefined) {\n",
       "    embed_document(root);\n",
       "  } else {\n",
       "    var attempts = 0;\n",
       "    var timer = setInterval(function(root) {\n",
       "      if (root.Bokeh !== undefined) {\n",
       "        clearInterval(timer);\n",
       "        embed_document(root);\n",
       "      } else {\n",
       "        attempts++;\n",
       "        if (attempts > 100) {\n",
       "          clearInterval(timer);\n",
       "          console.log(\"Bokeh: ERROR: Unable to run BokehJS code because BokehJS library is missing\");\n",
       "        }\n",
       "      }\n",
       "    }, 10, root)\n",
       "  }\n",
       "})(window);"
      ],
      "application/vnd.bokehjs_exec.v0+json": ""
     },
     "metadata": {
      "application/vnd.bokehjs_exec.v0+json": {
       "id": "4776"
      }
     },
     "output_type": "display_data"
    }
   ],
   "source": [
    "p = plt.figure(x_range=FactorRange(*x_axis), title=\"bla\",tools=\"\")\n",
    "\n",
    "#p.vbar(x='x', top='y1', width=0.9, source=source)\n",
    "p.vbar_stack(tech, x='x', width=0.9, source=source, color = colors,\n",
    "            legend_label=tech)\n",
    "\n",
    "plt.show(p)"
   ]
  },
  {
   "cell_type": "markdown",
   "metadata": {
    "collapsed": true
   },
   "source": [
    "## 4.2 Energy source level 2"
   ]
  },
  {
   "cell_type": "markdown",
   "metadata": {},
   "source": [
    "### 4.2.1 Table"
   ]
  },
  {
   "cell_type": "code",
   "execution_count": null,
   "metadata": {},
   "outputs": [],
   "source": [
    "pivot_capacity_level2 = pd.pivot_table(data_selection[data_selection.energy_source_level_2 == True],\n",
    "                                       index=('country','year','source'),\n",
    "                                       columns='technology',\n",
    "                                       values='capacity',\n",
    "                                       aggfunc=sum,\n",
    "                                       margins=False)\n",
    "\n",
    "pivot_capacity_level2"
   ]
  },
  {
   "cell_type": "markdown",
   "metadata": {},
   "source": [
    "### 4.2.2 Bokeh chart"
   ]
  },
  {
   "cell_type": "markdown",
   "metadata": {},
   "source": [
    "Please use the zoom and hover option to inspect the data graphically."
   ]
  },
  {
   "cell_type": "code",
   "execution_count": null,
   "metadata": {
    "scrolled": false
   },
   "outputs": [],
   "source": [
    "data_energy_level_2 = data_selection[data_selection.energy_source_level_2 == True].copy()\n",
    "data_energy_level_2['color'] = 'White'\n",
    "data_energy_level_2['color'] = data_energy_level_2['technology'].map(colormap)\n",
    "\n",
    "bar = Bar(data_energy_level_2, values='capacity', label=['country', 'year', 'source'], stack='technology',\n",
    "          title=\"National capacity by energy source\", tools=\"pan,wheel_zoom,box_zoom,reset,hover,save\",\n",
    "          legend='top_right', \n",
    "          plot_width=1600, plot_height=800,\n",
    "          color='color'\n",
    "         )\n",
    "bar._yaxis.formatter = NumeralTickFormatter(format=\"00,000 MW\")\n",
    "\n",
    "hover = bar.select_one(HoverTool)\n",
    "hover.point_policy = \"follow_mouse\"\n",
    "hover.tooltips = [(\"Country\", \"@country\"),\n",
    "                  (\"Year\", \"@year\"),\n",
    "                  (\"Source\", \"@source\"),\n",
    "                  (\"Category\", \"@technology\"),\n",
    "                  (\"Capacity\", \"@height{00,000.00} MW\"),\n",
    "]\n",
    "\n",
    "show(bar)"
   ]
  },
  {
   "cell_type": "markdown",
   "metadata": {},
   "source": [
    "## 4.3 Energy source level 3"
   ]
  },
  {
   "cell_type": "markdown",
   "metadata": {},
   "source": [
    "### 4.3.1 Table"
   ]
  },
  {
   "cell_type": "code",
   "execution_count": null,
   "metadata": {},
   "outputs": [],
   "source": [
    "pivot_capacity_level3 = pd.pivot_table(data_selection[data_selection.energy_source_level_3 == True],\n",
    "                                       index=('country', 'year', 'source'),\n",
    "                                       columns='technology',\n",
    "                                       values='capacity',\n",
    "                                       aggfunc=sum,\n",
    "                                       margins=False)\n",
    "\n",
    "pivot_capacity_level3"
   ]
  },
  {
   "cell_type": "markdown",
   "metadata": {},
   "source": [
    "### 4.3.2 Bokeh chart"
   ]
  },
  {
   "cell_type": "markdown",
   "metadata": {},
   "source": [
    "Please use the zoom and hover option to inspect the data graphically."
   ]
  },
  {
   "cell_type": "code",
   "execution_count": null,
   "metadata": {},
   "outputs": [],
   "source": [
    "data_energy_level_3 = data_selection[data_selection.energy_source_level_3 == True].copy()\n",
    "data_energy_level_3['color'] = 'White'\n",
    "data_energy_level_3['color'] = data_energy_level_3['technology'].map(colormap)\n",
    "\n",
    "bar = Bar(data_energy_level_3, values='capacity', label=['country', 'year', 'source'], stack='technology',\n",
    "          title=\"National capacity by energy source\", tools=\"pan,wheel_zoom,box_zoom,reset,hover,save\",\n",
    "#          legend='top_right', \n",
    "          plot_width=1600, plot_height=800,\n",
    "          color='color'\n",
    "         )\n",
    "bar._yaxis.formatter = NumeralTickFormatter(format=\"00,000 MW\")\n",
    "\n",
    "hover = bar.select_one(HoverTool)\n",
    "hover.point_policy = \"follow_mouse\"\n",
    "hover.tooltips = [(\"Country\", \"@country\"),\n",
    "                  (\"Year\", \"@year\"),\n",
    "                  (\"Source\", \"@source\"),\n",
    "                  (\"Category\", \"@technology\"),\n",
    "                  (\"Capacity\", \"@height{00,000.00} MW\"),\n",
    "]\n",
    "\n",
    "show(bar)"
   ]
  },
  {
   "cell_type": "markdown",
   "metadata": {},
   "source": [
    "## 4.4 Technology level"
   ]
  },
  {
   "cell_type": "markdown",
   "metadata": {},
   "source": [
    "### 4.4.1 Table"
   ]
  },
  {
   "cell_type": "code",
   "execution_count": null,
   "metadata": {},
   "outputs": [],
   "source": [
    "pivot_capacity_techlevel = pd.pivot_table(data_selection[data_selection.technology_level == True],\n",
    "                                          index=('country', 'year', 'source'),\n",
    "                                          columns='technology',\n",
    "                                          values='capacity',\n",
    "                                          aggfunc=sum,\n",
    "                                          margins=False)\n",
    "\n",
    "pivot_capacity_techlevel"
   ]
  },
  {
   "cell_type": "markdown",
   "metadata": {},
   "source": [
    "### 4.4.2 Bokeh chart"
   ]
  },
  {
   "cell_type": "markdown",
   "metadata": {},
   "source": [
    "Please use the zoom and hover option to inspect the data graphically."
   ]
  },
  {
   "cell_type": "code",
   "execution_count": null,
   "metadata": {},
   "outputs": [],
   "source": [
    "data_technology_level = data_selection[data_selection.technology_level == True].copy()\n",
    "data_technology_level['color'] = 'White'\n",
    "data_technology_level['color'] = data_technology_level['technology'].map(colormap)\n",
    "\n",
    "bar = Bar(data_technology_level, values='capacity', label=['country', 'year', 'source'], stack='technology',\n",
    "          title=\"National capacity by energy source and technology\", tools=\"pan,wheel_zoom,box_zoom,reset,hover,save\",\n",
    "#          legend='top_right', \n",
    "          plot_width=1600, plot_height=800,\n",
    "          color='color'\n",
    "         )\n",
    "bar._yaxis.formatter = NumeralTickFormatter(format=\"00,000 MW\")\n",
    "\n",
    "hover = bar.select_one(HoverTool)\n",
    "hover.point_policy = \"follow_mouse\"\n",
    "hover.tooltips = [(\"Country\", \"@country\"),\n",
    "                  (\"Year\", \"@year\"),\n",
    "                  (\"Source\", \"@source\"),\n",
    "                  (\"Category\", \"@technology\"),\n",
    "                  (\"Capacity\", \"@height{00,000.00} MW\"),\n",
    "]\n",
    "\n",
    "show(bar)"
   ]
  },
  {
   "cell_type": "markdown",
   "metadata": {},
   "source": [
    "# 5. Comparison of total capacity for energy source levels"
   ]
  },
  {
   "cell_type": "markdown",
   "metadata": {},
   "source": [
    "In the following, the installed capacities at the different technology levels are compared to each other. In any case, the total sum of all technologies within a certain technology level should match with other energy source levels. Otherwise the classification of categories to the levels is flawed or the specific data entries are wrong.\n",
    "\n",
    "Again, the comparison can be done for specific countries, or, if the selection is empty, for all countries."
   ]
  },
  {
   "cell_type": "code",
   "execution_count": null,
   "metadata": {},
   "outputs": [],
   "source": [
    "country_subset = []\n",
    "#country_subset = ['DE', 'FR', 'IT', 'ES']"
   ]
  },
  {
   "cell_type": "code",
   "execution_count": null,
   "metadata": {
    "scrolled": true
   },
   "outputs": [],
   "source": [
    "data_selection = pd.DataFrame()\n",
    "\n",
    "if len(country_subset) == 0:\n",
    "    data_selection = data\n",
    "else:\n",
    "    for country in country_subset:\n",
    "        if len(data_selection) == 0:\n",
    "            data_selection = data[data.country == country]\n",
    "        else:\n",
    "            data_selection = data_selection.append(data[data.country == country])\n",
    "\n",
    "#data_selection"
   ]
  },
  {
   "cell_type": "markdown",
   "metadata": {},
   "source": [
    "## 5.1 Calculation of total capacity for energy source levels"
   ]
  },
  {
   "cell_type": "code",
   "execution_count": null,
   "metadata": {},
   "outputs": [],
   "source": [
    "# Define the columns for grouping\n",
    "groupby_selection = ['capacity_definition', 'source', 'year', 'type', 'country']\n",
    "\n",
    "# Calculate the total capacity of all categories within a certain technology level\n",
    "capacity_total_0 = pd.DataFrame(data_selection[data_selection['energy_source_level_0'] == True]\n",
    "                                .groupby(groupby_selection)['capacity'].sum())\n",
    "capacity_total_1 = pd.DataFrame(data_selection[data_selection['energy_source_level_1'] == True]\n",
    "                                .groupby(groupby_selection)['capacity'].sum())\n",
    "capacity_total_2 = pd.DataFrame(data_selection[data_selection['energy_source_level_2'] == True]\n",
    "                                .groupby(groupby_selection)['capacity'].sum())\n",
    "capacity_total_3 = pd.DataFrame(data_selection[data_selection['energy_source_level_3'] == True]\n",
    "                                .groupby(groupby_selection)['capacity'].sum())\n",
    "capacity_total_tech = pd.DataFrame(data_selection[data_selection['technology_level'] == True]\n",
    "                                   .groupby(groupby_selection)['capacity'].sum())\n",
    "\n",
    "# Merge calculated capacity for different technology levels\n",
    "capacity_total_comparison = pd.DataFrame(capacity_total_0)\n",
    "capacity_total_comparison = pd.merge(capacity_total_0, capacity_total_1, \n",
    "                                     left_index=True, right_index=True, how='left')\n",
    "capacity_total_comparison = capacity_total_comparison.rename(columns={'capacity_x': 'energy source level 0',\n",
    "                                                                      'capacity_y': 'energy source level 1'})\n",
    "\n",
    "capacity_total_comparison = pd.merge(capacity_total_comparison, capacity_total_2, \n",
    "                                     left_index=True, right_index=True, how='left')\n",
    "capacity_total_comparison = pd.merge(capacity_total_comparison, capacity_total_3, \n",
    "                                     left_index=True, right_index=True, how='left')\n",
    "capacity_total_comparison = capacity_total_comparison.rename(columns={'capacity_x': 'energy source level 2',\n",
    "                                                                      'capacity_y': 'energy source level 3'})\n",
    "\n",
    "capacity_total_comparison = pd.merge(capacity_total_comparison, capacity_total_tech, \n",
    "                                     left_index=True, right_index=True, how='left')\n",
    "capacity_total_comparison = capacity_total_comparison.rename(columns={'capacity': 'technology level'})\n",
    "\n",
    "# Define sorting preferences\n",
    "capacity_total_comparison = capacity_total_comparison.sortlevel(['country', 'year'])\n",
    "\n",
    "capacity_total_comparison"
   ]
  },
  {
   "cell_type": "markdown",
   "metadata": {},
   "source": [
    "## 5.2 Identifcation of capacity differences for energy source levels"
   ]
  },
  {
   "cell_type": "markdown",
   "metadata": {},
   "source": [
    "Identification of differences between energy source levels for each country, source, and year. The difference is relative to the previous energy source level. Generally, differences between the energy source levels should be zero, but could differ in particular for ENTSO-E data."
   ]
  },
  {
   "cell_type": "code",
   "execution_count": null,
   "metadata": {},
   "outputs": [],
   "source": [
    "capacity_total_difference = capacity_total_comparison.diff(periods=1, axis=1)\n",
    "capacity_total_difference = capacity_total_difference[(capacity_total_difference['energy source level 1'] > 0.01) | \n",
    "                                                      (capacity_total_difference['energy source level 1'] < -0.01) |\n",
    "                                                     (capacity_total_difference['energy source level 2'] > 0.01) | \n",
    "                                                      (capacity_total_difference['energy source level 2'] < -0.01) |\n",
    "                                                     (capacity_total_difference['energy source level 3'] > 0.01) | \n",
    "                                                      (capacity_total_difference['energy source level 3'] < -0.01)|\n",
    "                                                     (capacity_total_difference['technology level'] > 0.01) | \n",
    "                                                      (capacity_total_difference['technology level'] < -0.01)]\n",
    "capacity_total_difference"
   ]
  }
 ],
 "metadata": {
  "@webio": {
   "lastCommId": null,
   "lastKernelId": null
  },
  "anaconda-cloud": {},
  "kernelspec": {
   "display_name": "Python 3",
   "language": "python",
   "name": "python3"
  },
  "language_info": {
   "codemirror_mode": {
    "name": "ipython",
    "version": 3
   },
   "file_extension": ".py",
   "mimetype": "text/x-python",
   "name": "python",
   "nbconvert_exporter": "python",
   "pygments_lexer": "ipython3",
   "version": "3.6.9"
  }
 },
 "nbformat": 4,
 "nbformat_minor": 1
}
